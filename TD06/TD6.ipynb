{
 "cells": [
  {
   "cell_type": "markdown",
   "metadata": {},
   "source": [
    "# MTH3302 : Méthodes probabilistes et statistiques pour l'I.A.\n",
    "\n",
    "Jonathan Jalbert<br/>\n",
    "Professeur agrégé au Département de mathématiques et de génie industriel<br/>\n",
    "Polytechnique Montréal<br/>\n",
    "\n",
    "Les images proviennent du jeu de données publiques *The Extended Yale Face Database B* disponible sur le site http://vision.ucsd.edu/~iskwak/ExtYaleDatabase/ExtYaleB.html.\n",
    "\n",
    "\n",
    "## TD6 : Reconnaissance faciale avec l'analyse en composantes principales\n",
    "\n",
    "\n",
    "Nous utiliserons des images récupérées de la base de données publique de Yale$^{(1)}$ que vous pouvez trouver sur Moodle. \n",
    "\n",
    "L'ensemble d'entraînement est composé de 28 images par individu pour 28 individus. \n",
    "\n",
    "L'ensemble de test est composé de 69 images non contenues dans l'ensemble d'entraînement.\n",
    "\n",
    "Pour chaque image de l'ensemble de test, on souhaite déterminer s'il s'agit d'une personne connue dans l'ensemble d'entraînement ou s'il s'agit d'une personne inconnue de l'ensemble d'entraînement."
   ]
  },
  {
   "cell_type": "markdown",
   "metadata": {},
   "source": [
    "## Préambule\n",
    "\n",
    "Plusieurs librairies que nous n'utilisons pas régulièrement dans le cours sont nécessaire. Exécutez la prochaine cellule de code pour installer ces librairies."
   ]
  },
  {
   "cell_type": "code",
   "execution_count": null,
   "metadata": {},
   "outputs": [],
   "source": [
    "import Pkg\n",
    "Pkg.add([\"Images\", \"Netpbm\", \"ImageMagick\", \"Colors\"])"
   ]
  },
  {
   "cell_type": "code",
   "execution_count": null,
   "metadata": {},
   "outputs": [],
   "source": [
    "# Librairies standards du cours\n",
    "using Statistics, LinearAlgebra, Gadfly, DataFrames\n",
    "\n",
    "# Librairie pour le traitement des images\n",
    "using Images, Netpbm, ImageMagick, Colors"
   ]
  },
  {
   "cell_type": "markdown",
   "metadata": {},
   "source": [
    "## Fonctions utiles\n",
    "\n",
    "Voici une liste de fonctions qui vous seront utiles pour ce TD.\n",
    "- `imgrayconvert` : permet de convertir une image en niveaux de gris pour chacun des pixels\n",
    "- `imshow` : affiche la matrice d'intensité des niveaux de gris "
   ]
  },
  {
   "cell_type": "code",
   "execution_count": null,
   "metadata": {},
   "outputs": [],
   "source": [
    "\"\"\"\n",
    "    imgrayconvert(imageFileName ; columnStack=true)\n",
    "\n",
    "Conversion en intensité de gris de l'image du fichier `imageFileName`.\n",
    "\n",
    "### Arguments\n",
    "- `imageFileName::string` : le nom du fichier de l'image\n",
    "- `columnStack::bool=true` : Si `true`, l'image est renvoyée comme un vecteur colonne (option par défaut) \n",
    "                             sinon la fonction renvoie la matrice des niveaux de gris.\n",
    "\n",
    "### Details\n",
    " \n",
    "La fonction retourne la matrice ou le vecteur colonne des niveaux de gris.\n",
    " \n",
    "### Examples\n",
    "\n",
    "\\```\n",
    " julia> imgrayconvert(imageFileName)\n",
    " julia> imgrayconvert(imageFileName ; columnStack=false)\n",
    "\\```\n",
    "\n",
    "\"\"\"\n",
    "function imgrayconvert(imageFileName::String ; columnStack::Bool=false, T::DataType=UInt8)\n",
    "    im = load(imageFileName)\n",
    "    X = Float64.(im)\n",
    "    if columnStack\n",
    "        Y = X[:]\n",
    "    else\n",
    "        Y = X\n",
    "    end\n",
    "    return Y\n",
    "end"
   ]
  },
  {
   "cell_type": "code",
   "execution_count": null,
   "metadata": {},
   "outputs": [],
   "source": [
    "\"\"\"\n",
    "    imshow(X::Array{<:Real,2}; colorscaling::Bool=false)\n",
    "\n",
    "Affiche une matrice en une image composée de niveau de gris.\n",
    "\n",
    "### Arguments\n",
    "- `X::Array{<:Real,2}` : Une matrice d'intensité de gris dans l'intervalle [0,1].\n",
    "- `colorscaling::Bool=false` : Ajustement des limites de l'échelles de couleur.\n",
    "\n",
    "\n",
    "### Details\n",
    "\n",
    "Lorsque `colorscaling = true`, l'échelle d'affichage des couleurs est ajustée de façon à ce que l'intensité minimale de l'image soit noir et l'intensité maximale soit blanc.\n",
    " \n",
    "### Examples\n",
    "\n",
    "\\```\n",
    " julia> imshow(X)\n",
    " julia> imshow(X, colorscaling = true)\n",
    "\\```\n",
    "\n",
    "\"\"\"\n",
    "\n",
    "function imshow(X::Array{<:Real,2}; colorscaling::Bool=true)\n",
    "    \n",
    "    if colorscaling\n",
    "        m = minimum(X)\n",
    "        M = maximum(X)\n",
    "    \n",
    "        Z = (X .- m) / (M-m)\n",
    "        Gray.(Z)\n",
    "    else\n",
    "        Gray.(X)\n",
    "    end\n",
    "    \n",
    "end\n",
    "\n",
    "\"\"\"\n",
    "    imshow(x::Vector{<:Real}; im_size::Tuple{<:Int,<:Int64}, colorscaling::Bool=false)\n",
    "\n",
    "Affiche vecteur en une image de dimension `im_size` composée de niveau de gris.\n",
    "\n",
    "### Arguments\n",
    "- `x::Vector{<:Real}` : Une matrice ou un vecteur colonne à afficher.\n",
    "- `im_size::Tuple{<:Int,<:Int}` : Un tuple de Int indicant la taille de l'image.\n",
    "- `colorscaling::Bool=false` : Ajustement des limites de l'échelles de couleur.\n",
    "\n",
    "\n",
    "### Details\n",
    "\n",
    "Lorsque `colorscaling = true`, l'échelle d'affichage des couleurs est ajustée de façon à ce que l'intensité minimale de l'image soit noir et l'intensité maximale soit blanc.\n",
    " \n",
    "### Examples\n",
    "\n",
    "\\```\n",
    " julia> imshow(x, (m₁, m₂))\n",
    " julia> imshow(x, (m₁, m₂), colorscaling=true)\n",
    "\\```\n",
    "\n",
    "\"\"\"\n",
    "function imshow(x::Vector{<:Real}, im_size::Tuple{<:Int,<:Int64}; colorscaling::Bool=true)\n",
    "    \n",
    "    X = reshape(x, im_size)\n",
    "    \n",
    "    imshow(X, colorscaling=colorscaling)\n",
    "    \n",
    "end"
   ]
  },
  {
   "cell_type": "markdown",
   "metadata": {},
   "source": [
    "\n",
    "# 1. Chargement des images d'entraînement et de test\n",
    "___\n",
    "\n",
    "Les images d'entraînement sont contenues dans le dossier *Train* du jeu de données que vous pouvez récupérer sur Moodle. L'ensemble d'entraînement est constitué de 784 images provenant de 28 personnes différentes, soit de 28 images par personne.\n",
    "\n",
    "Les images sont des visages déjà correctement centrés, ce qui nous permet de nous concentrer directement sur la reconnaissance des visages."
   ]
  },
  {
   "cell_type": "code",
   "execution_count": null,
   "metadata": {},
   "outputs": [],
   "source": [
    "# Récupération de tous les noms de fichiers de l'échantillon d'entraînement\n",
    "file = readdir(\"Train\")\n",
    "trainFileName = [\"Train/\"*file[i] for i=1:length(file)];"
   ]
  },
  {
   "cell_type": "code",
   "execution_count": null,
   "metadata": {},
   "outputs": [],
   "source": [
    "# Nombre d'images dans l'ensemble d'entraînement\n",
    "n = length(trainFileName)"
   ]
  },
  {
   "cell_type": "code",
   "execution_count": null,
   "metadata": {},
   "outputs": [],
   "source": [
    "# Affichage des 8 photos de la première personne\n",
    "load.(trainFileName[1:8])"
   ]
  },
  {
   "cell_type": "code",
   "execution_count": null,
   "metadata": {},
   "outputs": [],
   "source": [
    "# Affichage des 8 photos de la deuxième personne\n",
    "load.(trainFileName[29:36])"
   ]
  },
  {
   "cell_type": "code",
   "execution_count": null,
   "metadata": {},
   "outputs": [],
   "source": [
    "# Récupération de tous les noms de fichiers de l'échantillon d'entraînement\n",
    "file = readdir(\"Test\")\n",
    "testFileName = [\"Test/\"*file[i] for i=1:length(file)];"
   ]
  },
  {
   "cell_type": "code",
   "execution_count": null,
   "metadata": {},
   "outputs": [],
   "source": [
    "# Affichage des 8 premières images de l'ensemble de test\n",
    "load.(testFileName[1:8])"
   ]
  },
  {
   "cell_type": "code",
   "execution_count": null,
   "metadata": {},
   "outputs": [],
   "source": [
    "length(testFileName)"
   ]
  },
  {
   "cell_type": "markdown",
   "metadata": {},
   "source": [
    "### (a) Convertissez en matrice de niveaux de gris la première image\n",
    "\n",
    "Utilisez pour ce faire la fonction `imgrayconvert` fournie."
   ]
  },
  {
   "cell_type": "code",
   "execution_count": null,
   "metadata": {},
   "outputs": [],
   "source": []
  },
  {
   "cell_type": "markdown",
   "metadata": {},
   "source": [
    "### (b) Affichez la matrice des intensités de gris \n",
    "\n",
    "Utilisez la fonction `imshow` fournie."
   ]
  },
  {
   "cell_type": "code",
   "execution_count": null,
   "metadata": {},
   "outputs": [],
   "source": []
  },
  {
   "cell_type": "markdown",
   "metadata": {},
   "source": [
    "### (c) Récupérez le nombre de lignes et le nombre de colonnes des images\n",
    "\n",
    "Assignez les variables suivantes :\n",
    "- `m₁` : le nombre de lignes d'une image;\n",
    "- `m₂` : le nombre de colonnes d'une image ;\n",
    "- `m` : le nombre total de pixels d'une image."
   ]
  },
  {
   "cell_type": "code",
   "execution_count": null,
   "metadata": {},
   "outputs": [],
   "source": []
  },
  {
   "cell_type": "code",
   "execution_count": null,
   "metadata": {},
   "outputs": [],
   "source": []
  },
  {
   "cell_type": "markdown",
   "metadata": {},
   "source": [
    "### (d) Emmagasinez toutes les images dans une seule matrice X.\n",
    "\n",
    "Chaque ligne de la matrice X correspond à une image. \n",
    "\n",
    "De façon analogue à la régression, la matrice X possède n observations (le nombre d'images) avec m variables explicatives (chacun des pixels)."
   ]
  },
  {
   "cell_type": "code",
   "execution_count": null,
   "metadata": {},
   "outputs": [],
   "source": []
  },
  {
   "cell_type": "markdown",
   "metadata": {},
   "source": [
    "### (e) Affichez la 29e image à partir de la matrice X\n",
    "\n",
    "Utilisez la fonction `imshow` pour la 29e ligne de la matrice X."
   ]
  },
  {
   "cell_type": "code",
   "execution_count": null,
   "metadata": {},
   "outputs": [],
   "source": []
  },
  {
   "cell_type": "markdown",
   "metadata": {},
   "source": [
    "# 2. Analyse en composantes principales\n",
    "\n",
    "Le but de cette section est de réduire la dimension du jeu de données d'entraînement, soit la matrice X. Nous ferons  une décomposition en valeurs singulières de cette matrice et nous récupérerons que les $k$ premières.\n",
    "\n",
    "Les étapes sont les suivantes :\n",
    "1. Centrer chacune des lignes de la matrice des visages d'entraînement pour obtenir la matrice $Z$.\n",
    "2. Effectuer une décomposition en valeurs singulières de $Z$.\n",
    "3. Illustrer le pourcentage de variabilité récupérée en fonction du nombre $k$ de composantes principales. "
   ]
  },
  {
   "cell_type": "markdown",
   "metadata": {},
   "source": [
    "## 2.1 Centrez les images de l'ensemble d'entraînement\n",
    "\n",
    "### (a) Calculez le visage moyen $\\bar{X}$ en faisait une moyenne de tous les visages pour chacun des pixels. Affichez le visage moyen avec la fonction `imshow`."
   ]
  },
  {
   "cell_type": "code",
   "execution_count": null,
   "metadata": {},
   "outputs": [],
   "source": []
  },
  {
   "cell_type": "markdown",
   "metadata": {},
   "source": [
    "### (b) Calculez la matrice $Z$ centrée des visages de l'ensemble d'entraînement. \n",
    "\n",
    "Ensuite, afficher la différence entre le premier visage et le visage moyen avec la fonction `imshow`."
   ]
  },
  {
   "cell_type": "code",
   "execution_count": null,
   "metadata": {},
   "outputs": [],
   "source": []
  },
  {
   "cell_type": "markdown",
   "metadata": {},
   "source": [
    "## 2.2 Décomposez en valeurs singulières la matrice $Z$.\n",
    "\n",
    "### (a) Obtenez les matrices $U$ et $V$ ainsi que les valeurs singulières à l'aide de la fonction `svd`."
   ]
  },
  {
   "cell_type": "code",
   "execution_count": null,
   "metadata": {},
   "outputs": [],
   "source": []
  },
  {
   "cell_type": "markdown",
   "metadata": {},
   "source": [
    "### (b) Affichez les premiers vecteurs singuliers de $V$ avec la fonction `imshow`. \n",
    "\n",
    "Ces composantes représentent les modes de plus grande variabilité. Dans la reconnaissance faciale, elles sont appelées les *eigenfaces*."
   ]
  },
  {
   "cell_type": "code",
   "execution_count": null,
   "metadata": {},
   "outputs": [],
   "source": []
  },
  {
   "cell_type": "markdown",
   "metadata": {},
   "source": [
    "## 2.3 Illustrez le pourcentage de variabilité récupérée en fonction du nombre $k$ de composantes principales.\n",
    "\n",
    "### (a) Tracez un graphique permettant de voir le pourcentage de la variance totale retenue en fonction du nombre de composantes principales."
   ]
  },
  {
   "cell_type": "code",
   "execution_count": null,
   "metadata": {},
   "outputs": [],
   "source": []
  },
  {
   "cell_type": "markdown",
   "metadata": {},
   "source": [
    "### (b) Calculez le pourcentage de la variance récupérée en utilisant les $k$ premières composantes principales.\n",
    "\n",
    "Utilisez les valeurs de k dans l'ensemble {8, 78, 196, 392} qui correspondent respectivement à des tailles de matrice ayant 1%, 10%, 25% et 50% de la taille de la matrice originale. "
   ]
  },
  {
   "cell_type": "code",
   "execution_count": null,
   "metadata": {},
   "outputs": [],
   "source": []
  },
  {
   "cell_type": "markdown",
   "metadata": {},
   "source": [
    "# 3. Approximation des images avec les composantes principales\n",
    "\n",
    "## 3.1 Approximation de la première image de l'ensemble d'entraînement\n",
    "\n",
    "### (a) Calculez la combinaison linéaire des $k=8$ premières principales qui approxime le mieux l'image 1 de l'ensemble d'entraînement.\n",
    "\n",
    "Pour ce faire, trouvez le meilleur plan qui recoupe les pixels de l'image 1. Indice : pensez à la régression linéaire.\n",
    "\n"
   ]
  },
  {
   "cell_type": "code",
   "execution_count": null,
   "metadata": {},
   "outputs": [],
   "source": []
  },
  {
   "cell_type": "code",
   "execution_count": null,
   "metadata": {},
   "outputs": [],
   "source": []
  },
  {
   "cell_type": "markdown",
   "metadata": {},
   "source": [
    "### (b) Calculez l'approximation obtenue"
   ]
  },
  {
   "cell_type": "code",
   "execution_count": null,
   "metadata": {},
   "outputs": [],
   "source": []
  },
  {
   "cell_type": "markdown",
   "metadata": {},
   "source": [
    "### (c) Affichez l'image $zᵢ$ originale ainsi que son approximation\n",
    "\n",
    "Vous pouvez ajouter le visage moyen pour une meilleure interprétation"
   ]
  },
  {
   "cell_type": "code",
   "execution_count": null,
   "metadata": {},
   "outputs": [],
   "source": []
  },
  {
   "cell_type": "markdown",
   "metadata": {},
   "source": [
    "## 3.2 Approximation du visage 1 avec les 78 premières composantes principales\n",
    "\n",
    "Reprenez les étapes précédentes mais cette fois en utilisant les 78 premières composantes principales."
   ]
  },
  {
   "cell_type": "code",
   "execution_count": null,
   "metadata": {},
   "outputs": [],
   "source": []
  },
  {
   "cell_type": "code",
   "execution_count": null,
   "metadata": {},
   "outputs": [],
   "source": []
  },
  {
   "cell_type": "markdown",
   "metadata": {},
   "source": [
    "L'approximation à droite est obtenue avec une matrice de taille environ 10 fois moins volumineuse que le jeu de données original."
   ]
  },
  {
   "cell_type": "markdown",
   "metadata": {},
   "source": [
    "## 3.3 Approximation du visage 29 avec les 78 premières composantes principales\n",
    "\n",
    "Reprenez les étapes précédentes mais cette fois avec le visage 29."
   ]
  },
  {
   "cell_type": "code",
   "execution_count": null,
   "metadata": {},
   "outputs": [],
   "source": []
  },
  {
   "cell_type": "code",
   "execution_count": null,
   "metadata": {},
   "outputs": [],
   "source": []
  },
  {
   "cell_type": "markdown",
   "metadata": {},
   "source": [
    "## 3.4 Approximation du visage 1 avec toutes les composantes principales\n",
    "\n",
    "Reprenez les étapes précédentes mais cette fois en utilisant toutes les composantes principales."
   ]
  },
  {
   "cell_type": "code",
   "execution_count": null,
   "metadata": {},
   "outputs": [],
   "source": []
  },
  {
   "cell_type": "code",
   "execution_count": null,
   "metadata": {},
   "outputs": [],
   "source": []
  },
  {
   "cell_type": "markdown",
   "metadata": {},
   "source": [
    "## 3.5 Approximation de tous les visages de l'ensembles d'entraînement\n",
    "\n",
    "En prenant les $k = 78$ premières composantes principales, calculez les pondérations η̂ᵢₖ permettant d'approximer tous les visages de l'ensemble d'entraînement. Construisez la matrice $H$ de taille $k \\times n$ où la $i^e$ colonne correspond à la combinaison linéaire qui approxime l'image $i$ avec les $k$ premières composantes principales η̂ᵢₖ.\n"
   ]
  },
  {
   "cell_type": "code",
   "execution_count": null,
   "metadata": {},
   "outputs": [],
   "source": []
  },
  {
   "cell_type": "code",
   "execution_count": null,
   "metadata": {},
   "outputs": [],
   "source": []
  },
  {
   "cell_type": "markdown",
   "metadata": {},
   "source": [
    "# 4. Reconnaissance faciale\n",
    "\n",
    "\n",
    "L'idée de la reconnaissance faciale consiste à comparer le vecteur des coefficient $\\mathbf{\\hat{\\eta}}$ de l'image à reconnaître avec les coefficients des images de l'ensemble d'entraînement. C'est une comparaison assez facile à faire car ce vecteur est de dimension raisonnable comparativement aux images originales. En effet, dans notre cas, si on prend 78 composantes principales, le vecteur des coefficients est un vecteur colonne de taille 78. On peut donc résumer toutes les images par leur vecteur des coefficients de taille 78. \n",
    "\n",
    "Pour savoir, si une nouvelle image représente une personne présente dans l'ensemble d'entraînement, on n'a qu'à comparer son vecteur des coefficients avec chacun des vecteurs des coefficients de l'ensemble d'entraînement. Si la différence entre les vecteurs est très grande, cela suggère que la personne est inconnue de l'ensemble d'entraînement. Si la différence est petite avec un des vecteurs de coefficients, cela suggère qu'il s'agit de la même personne. Le seuil doit être ajusté par une procédure de validation croisée.\n",
    "\n",
    "Dans cette section, vous déciderez si une nouvelle image de l'ensemble test représente un personne connue ou inconnue. Vous le ferez en complétant les étapes suivantes :\n",
    "\n",
    "1. Calculez les coefficients de la combinaison linéaire des colonnes de Vₖ approximant l'image inconnue zₒ.\n",
    "2. Calculez la distance euclidienne entre les coefficients des images d'entraînement et celui de l'image de test.\n",
    "3. Identifiez l'image de l'ensemble d'entraînement la plus proche de l'image de test.\n",
    "4. En fonction de la distance, décidez si le visage se retrouve dans l'échantillon d'entraînement ou s'il est inconnu."
   ]
  },
  {
   "cell_type": "markdown",
   "metadata": {},
   "source": [
    "## 4.1 Calculez les coefficients de la combinaison linéaire des colonnes de Vₖ approximant  l'image inconnue zₒ.\n",
    "\n",
    "Prenez $k = 78$ composantes.\n",
    "\n",
    "### (a) Chargez une image de l'ensemble de test"
   ]
  },
  {
   "cell_type": "code",
   "execution_count": null,
   "metadata": {},
   "outputs": [],
   "source": [
    "# jᵉ image de l'ensemble de test\n",
    "j = 1\n",
    "\n",
    "# chargement de la matrice des niveaux de gris\n",
    "xₒ = imgrayconvert(testFileName[j], columnStack=true)\n",
    "\n",
    "# Affichage de l'image brute\n",
    "imshow(xₒ, (m₁, m₂))"
   ]
  },
  {
   "cell_type": "markdown",
   "metadata": {},
   "source": [
    "### (b) Calculez la différence avec le visage moyen"
   ]
  },
  {
   "cell_type": "code",
   "execution_count": null,
   "metadata": {},
   "outputs": [],
   "source": []
  },
  {
   "cell_type": "markdown",
   "metadata": {},
   "source": [
    "### (c) Calculez les coefficients de la combinaison linéaires de Vₖ qui approxime le mieux zₒ"
   ]
  },
  {
   "cell_type": "code",
   "execution_count": null,
   "metadata": {},
   "outputs": [],
   "source": []
  },
  {
   "cell_type": "markdown",
   "metadata": {},
   "source": [
    "### (d) Calculez les vecteurs différences entre les coefficients de l'image et ceux de l'ensemble d'entraînement"
   ]
  },
  {
   "cell_type": "code",
   "execution_count": null,
   "metadata": {},
   "outputs": [],
   "source": []
  },
  {
   "cell_type": "markdown",
   "metadata": {},
   "source": [
    "### (e) Calculez la norme euclidienne de ces vecteurs différence"
   ]
  },
  {
   "cell_type": "code",
   "execution_count": null,
   "metadata": {},
   "outputs": [],
   "source": []
  },
  {
   "cell_type": "markdown",
   "metadata": {},
   "source": [
    "### (f) Identifiez l'image de l'ensemble d'entraînement pour laquelle la norme des différences est la plus petite.\n",
    "\n",
    "Conservez la norme de la différence minimale."
   ]
  },
  {
   "cell_type": "code",
   "execution_count": null,
   "metadata": {},
   "outputs": [],
   "source": []
  },
  {
   "cell_type": "markdown",
   "metadata": {},
   "source": [
    "### (g) Décidez si le visage se retrouve dans l'échantillon d'entraînement ou s'il est inconnu.\n",
    "\n",
    "Si la distance minimale de la différence est suffisamment petite, alors on statuera que la personne est connue (elle se retrouve dans l'ensemble d'entraînement). Sinon, la personne est inconnue (elle ne se retrouve pas dans l'ensemble d'entraînement).\n",
    "\n",
    "Il faut définir ce seuil à l'aide d'une procédure validation croisée. Par simplicité ici, utilisez le seuil de 3500².\n",
    "\n",
    "Vous pouvez refaire les étapes du numéro 4 avec les autres images de l'ensemble de test et vous pouvez même tenter d'utiliser un nombre différent de composantes principales. Amusez-vous !  "
   ]
  },
  {
   "cell_type": "code",
   "execution_count": null,
   "metadata": {},
   "outputs": [],
   "source": []
  },
  {
   "cell_type": "code",
   "execution_count": null,
   "metadata": {},
   "outputs": [],
   "source": []
  }
 ],
 "metadata": {
  "@webio": {
   "lastCommId": null,
   "lastKernelId": null
  },
  "hide_input": false,
  "kernelspec": {
   "display_name": "Julia 1.10.0",
   "language": "julia",
   "name": "julia-1.10"
  },
  "language_info": {
   "file_extension": ".jl",
   "mimetype": "application/julia",
   "name": "julia",
   "version": "1.10.0"
  }
 },
 "nbformat": 4,
 "nbformat_minor": 4
}
