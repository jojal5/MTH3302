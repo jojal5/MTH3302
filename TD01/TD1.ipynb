{
 "cells": [
  {
   "cell_type": "markdown",
   "metadata": {},
   "source": [
    "# MTH3302 : Méthodes probabilistes et statistiques pour l'I.A.\n",
    "\n",
    "Jonathan Jalbert<br/>\n",
    "Professeur agrégé au Département de mathématiques et de génie industriel<br/>\n",
    "Polytechnique Montréal<br/>\n",
    "\n",
    "\n",
    "# TD1 - Introduction à Julia\n",
    "\n",
    "Ce TD constitue une introduction au langage Julia et au calepin Jupyter. L'Exercice 1 a pour but d'introduire les commandes de base de Julia et de la librairie *Distributions.jl* tandis que l'Exercice 2 a pour but d'introduire les DataFrames et la puissante librairie *Gadfly.jl*, similaire à *ggplot2* en *R*, pour la création de graphiques.\n",
    "\n",
    "Commençons par charger les librairies nécessaires. Si elles ne sont pas installées, vous pouvez le faire avec les commandes suivantes :\n",
    "\n",
    "```\n",
    "using Pkg\n",
    "Pkg.add([\"CSV\", \"DataFrames\" ,\"Distributions\", \"Gadfly\", \"Statistics\"])\n",
    "```"
   ]
  },
  {
   "cell_type": "code",
   "execution_count": null,
   "metadata": {},
   "outputs": [],
   "source": [
    "using CSV              # Pour charger les fichiers CSV\n",
    "using DataFrames       # Pour utiliser la structure DataFrame pour stocker les données\n",
    "using Distributions    # Pour utiliser les lois de probabilités classiques\n",
    "using Gadfly           # Pour tracer des graphiques\n",
    "using Statistics       # Pour les functions statistiques de base"
   ]
  },
  {
   "cell_type": "markdown",
   "metadata": {},
   "source": [
    "# Exercice 1\n",
    "\n",
    "Dans cet exercice, nous nous intéressons au problèmes du [collectionneur de vignettes](https://fr.wikipedia.org/wiki/Probl%C3%A8me_du_collectionneur_de_vignettes) - un problème classique en probabilités.\n",
    "\n",
    "## Description du problème\n",
    "\n",
    "La compagnie Kinder Surprise offre des friandises avec en bonus un jouet à l'intérieur. Le jouet fait partie d'une série de 8 jouets à collectionner. Les jouets sont disposés au hasard dans la friandise et on suppose qu'à chaque achat, les probabilités d'obtenir d'obtenir chacun des éléments de la collection sont équiprobables et indépendants.\n",
    "\n",
    "Un collectionneur veut obtenir tous les 8 jouets de la collection. On s'intéresse au nombre d'achats requis pour compléter la collection.\n",
    "\n",
    "## Modélisation mathématique\n",
    "\n",
    "Soit la variable aléatoire $T$, le nombre d'achats requis pour compléter la collection de taille $n$. Posons $T_i$, le nombre d'achats requis pour obtenir le $i^e$ élément de la collection lorsque l'on a déjà $(i-1)$ éléments de la collection. On a alors que\n",
    "\n",
    "$$ T = \\sum_{i=1}^n T_i. $$\n",
    "\n",
    "On peut montrer que\n",
    "\n",
    "$$T_i \\sim Géométrique( p_i )$$\n",
    "\n",
    "avec \n",
    "\n",
    "$$p_i = \\frac{n-i+1}{n}.$$\n",
    "\n",
    "\n",
    "## 1.1 Simulations Monte-Carlo\n",
    "\n",
    "Pour répondre aux questions de cet exercice, nous utiliserons une procédure Monte-Carlo qui consiste à simuler plusieurs réalisations de $T$ pour estimer les quantités d'intérêts.\n",
    "\n",
    "Voici les différentes étapes de la procédure Monte-Carlo :\n",
    "1. Simulation du nombre d'essais requis pour obtenir la $i^e$ nouvel item de la collection.\n",
    "2. Simulation du nombre d'essais requis pour obtenir la collection complète.\n",
    "\n",
    "\n",
    "\n",
    "\n",
    "Voici les différentes étapes qui nous permettrons d'étudier le problème :\n",
    "\n",
    "1. Simulation du nombre d'essais requis pour obtenir la $i^e$ nouvel item de la collection.\n",
    "2. Simulation du nombre d'essais requis pour obtenir la collection complète.\n",
    "3. Affichage du nombre d'essais requis pour 10 000 essais afin d'obtenir la collection complète.\n",
    "4. Estimation de la moyenne du nombre d'essais requis pour obtenir la collection complète.\n",
    "5. Estimation de la probabilité que 100 essais soit suffisants pour obtenir la collection complète."
   ]
  },
  {
   "cell_type": "markdown",
   "metadata": {},
   "source": [
    "### 1.1.1. Simulation du nombre d'essais requis pour obtenir le $i^e$ nouvel item\n",
    "\n",
    "Générez une réalisation possible du nombre d'essais requis pour obtenir le $i^e$ nouvel item d'une collection de $n$ éléments.\n",
    "\n",
    "Utilisez le constructeur `Geometric()` pour construire un objet de type loi géométrique pour ensuite utiliser la fonction `rand()`sur cet objet pour générer une réalisation."
   ]
  },
  {
   "cell_type": "code",
   "execution_count": null,
   "metadata": {},
   "outputs": [],
   "source": [
    "n = 8 # Nombre d'éléments de la collection\n",
    "i = 7\n",
    "\n",
    "#TODO"
   ]
  },
  {
   "cell_type": "markdown",
   "metadata": {},
   "source": [
    "Transformez le code précédent en fonction nommée *ntrial* qui prend en argument $i$ et la taille de collection $n$."
   ]
  },
  {
   "cell_type": "code",
   "execution_count": null,
   "metadata": {},
   "outputs": [],
   "source": [
    "function ntrial(i::Int,n::Int)\n",
    "   @assert 0<i<=n # Vérification de la validité de i (facultatif)\n",
    "    \n",
    "    #TODO\n",
    "    \n",
    "end"
   ]
  },
  {
   "cell_type": "markdown",
   "metadata": {},
   "source": [
    "### 1.1.2. Simulation du nombre d'achats requis pour obtenir la collection complète.\n",
    "\n",
    "Simulez le nombre d'achats nécessaires pour obtenir la collection complète en simulant chacun de $T_i$."
   ]
  },
  {
   "cell_type": "code",
   "execution_count": null,
   "metadata": {},
   "outputs": [],
   "source": []
  },
  {
   "cell_type": "markdown",
   "metadata": {},
   "source": [
    "Transformez le code précédent en fonction nommée *ntotal* qui prend en argument la taille de la collection."
   ]
  },
  {
   "cell_type": "code",
   "execution_count": null,
   "metadata": {},
   "outputs": [],
   "source": [
    "function ntotal(n::Int)\n",
    "   @assert n>0\n",
    "    \n",
    "    #TODO\n",
    "    \n",
    "end"
   ]
  },
  {
   "cell_type": "code",
   "execution_count": null,
   "metadata": {},
   "outputs": [],
   "source": []
  },
  {
   "cell_type": "markdown",
   "metadata": {},
   "source": [
    "### 1.1.3. Simulation du nombre d'achats requis pour compléter la collection.\n",
    "\n",
    "Simulez d'abord 10 000 réalisations du nombre d'achats requis pour compléter la collection. C'est comme si on répétait l'expérience de collectionner les n objets 10 000 fois."
   ]
  },
  {
   "cell_type": "code",
   "execution_count": null,
   "metadata": {},
   "outputs": [],
   "source": [
    "T = Int64[]\n",
    "\n",
    "for j in 1:10000\n",
    "    push!(T, ntotal(n))\n",
    "end"
   ]
  },
  {
   "cell_type": "markdown",
   "metadata": {},
   "source": [
    "Affichez le nombre d'essais requis avec un histogramme à 100 classes en utilisant l'argument `Geom.histogram(bincount=100)` de la fonction `plot()` de la librairie Gadfly."
   ]
  },
  {
   "cell_type": "code",
   "execution_count": null,
   "metadata": {},
   "outputs": [],
   "source": []
  },
  {
   "cell_type": "markdown",
   "metadata": {},
   "source": [
    "## 1.2 Estimation Monte-Carlo des quantités d'intérêt\n",
    "\n",
    "On utilisera l'ensemble des réalisations simulées pour estimer les quantités d'intérêt."
   ]
  },
  {
   "cell_type": "markdown",
   "metadata": {},
   "source": [
    "### 1.2.1. Estimation de l'espérance du nombre d'achats requis pour obtenir la collection complète.\n",
    "\n",
    "À l'aide des 10 000 réalisations, calculez la moyenne empirique de nombre d'essais requis pour obtenir la collection complète de $n=8$ éléments."
   ]
  },
  {
   "cell_type": "code",
   "execution_count": null,
   "metadata": {},
   "outputs": [],
   "source": []
  },
  {
   "cell_type": "markdown",
   "metadata": {},
   "source": [
    "### 1.2.2. Estimation de l'écart-type du nombre d'achats requis pour obtenir la collection complète.\n",
    "\n",
    "À l'aide des 10 000 réalisations, calculez l'écart-type empirique de nombre d'essais requis pour obtenir la collection complète de $n=8$ éléments."
   ]
  },
  {
   "cell_type": "code",
   "execution_count": null,
   "metadata": {},
   "outputs": [],
   "source": []
  },
  {
   "cell_type": "markdown",
   "metadata": {},
   "source": [
    "### 1.2.2. Estimation de la probabilité que 23 essais soit suffisants pour obtenir la collection complète.\n",
    "\n",
    "Pour ce faire, calculez la proportion empirique des réalisations parmi les 10 000 simulées où 23 essais ou moins ont été suffisants pour compléter la collection."
   ]
  },
  {
   "cell_type": "code",
   "execution_count": null,
   "metadata": {},
   "outputs": [],
   "source": []
  },
  {
   "cell_type": "markdown",
   "metadata": {},
   "source": [
    "# Exercice 2\n",
    "\n",
    "Dans cet exercice, vous devrez charger les données météorologiques enregistrées à l'Aéroport Pierre-Elliot-Trudeau à Montréal et afficher les températures annuelles maximales. Les étapes sont les suivantes :\n",
    "\n",
    "1. Chargement du fichier de données.\n",
    "2. Récupération des années complètes uniquement.\n",
    "3. Extraction des températures annuelles maximales.\n",
    "4. Affichage des températures annuelles maximales en fonction des années.\n"
   ]
  },
  {
   "cell_type": "markdown",
   "metadata": {},
   "source": [
    "## 2.1. Chargement du fichier de données\n",
    "\n",
    "Le chargement du fichier CSV contenant les données se fait en utilisant la fonction `CSV.read()` en ajoutant l'argument `DataFrame`."
   ]
  },
  {
   "cell_type": "code",
   "execution_count": null,
   "metadata": {},
   "outputs": [],
   "source": [
    "data = CSV.read(\"meteoMontreal.csv\", DataFrame)\n",
    "\n",
    "first(data,5) # Affiche uniquement les 5 premières lignes de data"
   ]
  },
  {
   "cell_type": "markdown",
   "metadata": {},
   "source": [
    "## 2.2 Sélection des colonnes d'intérêts\n",
    "\n",
    "Sélectionnez les colonnes\n",
    "- :LOCAL_YEAR\n",
    "- :LOCAL_MONTH\n",
    "- :LOCAL_DAY\n",
    "- :MAX_TEMPERATURE\n",
    "\n",
    "du DataFrame avec la fonction `select()` ou `select!()`."
   ]
  },
  {
   "cell_type": "code",
   "execution_count": null,
   "metadata": {},
   "outputs": [],
   "source": []
  },
  {
   "cell_type": "markdown",
   "metadata": {},
   "source": [
    "## 2.3 Récupération des années complètes\n",
    "\n",
    "Pour que les maxima annuels aient du sens, il faut qu'ils soient pris sur l'année complète. Par exemple, on ne veut pas récupérer le maximum annuel d'une année où l'été n'a pas été enregistré. Pour la station en question, il faut retirer les années 1941 et 2013 qui sont incomplètes.\n",
    "\n",
    "Retirez du DataFrame les lignes qui correspondent aux années 1941 et 2013."
   ]
  },
  {
   "cell_type": "code",
   "execution_count": null,
   "metadata": {},
   "outputs": [],
   "source": []
  },
  {
   "cell_type": "markdown",
   "metadata": {},
   "source": [
    "## 2.4 Récupération des données enregistrées\n",
    "\n",
    "Ignorez les lignes du DataFrame qui correspondent à des températures manquantes avec la fonction `dropmissing()` ou `dropmissing!()`."
   ]
  },
  {
   "cell_type": "code",
   "execution_count": null,
   "metadata": {},
   "outputs": [],
   "source": []
  },
  {
   "cell_type": "markdown",
   "metadata": {},
   "source": [
    "## 2.5.  Extraction des températures maximales annuelles\n",
    "\n",
    "Extrayez les maxima annuels de température enregistrés à Montréal. Il y a plusieurs façons de procéder. Je vous propose d'utiliser les fonctions `combine()` et `groupby()` de la librairie *DataFrame* pour manipuler aisément les données dans un DataFrame."
   ]
  },
  {
   "cell_type": "code",
   "execution_count": null,
   "metadata": {},
   "outputs": [],
   "source": []
  },
  {
   "cell_type": "markdown",
   "metadata": {},
   "source": [
    "## 2.6. Affichage des températures annuelles maximales en fonction des années.\n",
    "\n",
    "Lorsque les données à afficher sont dans un DataFrame, le traçage des graphiques est simple avec Gadfly. Il suffit de mentionner quelle colonne est le $x$ et quelle colonne est le $y$."
   ]
  },
  {
   "cell_type": "code",
   "execution_count": null,
   "metadata": {},
   "outputs": [],
   "source": []
  },
  {
   "cell_type": "code",
   "execution_count": null,
   "metadata": {},
   "outputs": [],
   "source": []
  }
 ],
 "metadata": {
  "@webio": {
   "lastCommId": null,
   "lastKernelId": null
  },
  "kernelspec": {
   "display_name": "Julia 1.11.6",
   "language": "julia",
   "name": "julia-1.11"
  },
  "language_info": {
   "file_extension": ".jl",
   "mimetype": "application/julia",
   "name": "julia",
   "version": "1.11.6"
  }
 },
 "nbformat": 4,
 "nbformat_minor": 2
}
