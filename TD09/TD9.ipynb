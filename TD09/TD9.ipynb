{
 "cells": [
  {
   "cell_type": "markdown",
   "metadata": {},
   "source": [
    "# MTH3302 : Méthodes probabilistes et statistiques pour l'I.A.\n",
    "\n",
    "Jonathan Jalbert<br/>\n",
    "Professeur agrégé au Département de mathématiques et de génie industriel<br/>\n",
    "Polytechnique Montréal<br/>\n",
    "\n",
    "\n",
    "# TD9 : Régression bayésienne\n",
    "\n",
    "La régression ridge est un cas particulier de la régression linéaire bayésienne lorsque la loi *a priori* partiellement informative suivante est utilisée :\n",
    "\n",
    "$$ f_{(\\boldsymbol{\\beta},\\sigma^2)}(\\boldsymbol{\\beta},\\sigma^2) \\propto \\mathcal{N}\\left(\\boldsymbol{\\beta} \\, \\left| \\, \\boldsymbol{0}_p , \\frac{\\sigma^2}{\\lambda}I_p \\right. \\right) \\times \\frac{1}{\\sigma^2}. $$\n",
    "\n",
    "Pour être conséquent avec l'approche bayésienne, il faudrait fixer l'hyperparamètre $\\lambda$ avant même d'avoir vu les données. De façon pragmatique, la valeur de $\\lambda$ est souvent choisie par validation comme nous le ferons dans cet exercice.\n",
    "\n",
    "## Données\n",
    "\n",
    "Le jeu de données étudiées pour l'exercice 1 provient de l'étude de Tibshirani et al. (2004) illustrant les méthodes de régression modernes telle que la régression ridge. Nous étudierons la glycémie sanguine (glu) en fonction de 8 variables explicatives : l'âge du patient (age), l'indice de masse corporel du patient (bmi), de la tension artérielle moyenne (map) ainsi que de 5 autres indicateur sanguins (tc, ldl, hdl, tch et ltg). Nous laissons tomber dans le caadre de ce TD le sexe du patient et la variable prog.\n",
    "\n",
    "\n",
    "#### Référence\n",
    "Tibshirani, R. J., Johnstone, I., Hastie, T., & Efron, B. (2004). Least angle regression. *The Annals of Statistics*, 32(2), 407–499. DOI:10.1214/009053604000000067\n"
   ]
  },
  {
   "cell_type": "code",
   "execution_count": 1,
   "metadata": {},
   "outputs": [],
   "source": [
    "using CSV \n",
    "using DataFrames\n",
    "using Distributions\n",
    "using Gadfly\n",
    "using LinearAlgebra\n",
    "using Statistics\n",
    "import Random\n",
    "import StatsBase"
   ]
  },
  {
   "cell_type": "markdown",
   "metadata": {},
   "source": [
    "## Chargement des données"
   ]
  },
  {
   "cell_type": "code",
   "execution_count": 2,
   "metadata": {},
   "outputs": [
    {
     "data": {
      "text/html": [
       "<div><div style = \"float: left;\"><span>5×9 DataFrame</span></div><div style = \"clear: both;\"></div></div><div class = \"data-frame\" style = \"overflow-x: scroll;\"><table class = \"data-frame\" style = \"margin-bottom: 6px;\"><thead><tr class = \"columnLabelRow\"><th class = \"stubheadLabel\" style = \"font-weight: bold; text-align: right;\">Row</th><th style = \"text-align: left;\">age</th><th style = \"text-align: left;\">bmi</th><th style = \"text-align: left;\">map</th><th style = \"text-align: left;\">tc</th><th style = \"text-align: left;\">ldl</th><th style = \"text-align: left;\">hdl</th><th style = \"text-align: left;\">tch</th><th style = \"text-align: left;\">ltg</th><th style = \"text-align: left;\">glu</th></tr><tr class = \"columnLabelRow\"><th class = \"stubheadLabel\" style = \"font-weight: bold; text-align: right;\"></th><th title = \"Int64\" style = \"text-align: left;\">Int64</th><th title = \"Float64\" style = \"text-align: left;\">Float64</th><th title = \"Float64\" style = \"text-align: left;\">Float64</th><th title = \"Int64\" style = \"text-align: left;\">Int64</th><th title = \"Float64\" style = \"text-align: left;\">Float64</th><th title = \"Float64\" style = \"text-align: left;\">Float64</th><th title = \"Float64\" style = \"text-align: left;\">Float64</th><th title = \"Float64\" style = \"text-align: left;\">Float64</th><th title = \"Int64\" style = \"text-align: left;\">Int64</th></tr></thead><tbody><tr class = \"dataRow\"><td class = \"rowLabel\" style = \"font-weight: bold; text-align: right;\">1</td><td style = \"text-align: right;\">59</td><td style = \"text-align: right;\">32.1</td><td style = \"text-align: right;\">101.0</td><td style = \"text-align: right;\">157</td><td style = \"text-align: right;\">93.2</td><td style = \"text-align: right;\">38.0</td><td style = \"text-align: right;\">4.0</td><td style = \"text-align: right;\">2.11</td><td style = \"text-align: right;\">87</td></tr><tr class = \"dataRow\"><td class = \"rowLabel\" style = \"font-weight: bold; text-align: right;\">2</td><td style = \"text-align: right;\">48</td><td style = \"text-align: right;\">21.6</td><td style = \"text-align: right;\">87.0</td><td style = \"text-align: right;\">183</td><td style = \"text-align: right;\">103.2</td><td style = \"text-align: right;\">70.0</td><td style = \"text-align: right;\">3.0</td><td style = \"text-align: right;\">1.69</td><td style = \"text-align: right;\">69</td></tr><tr class = \"dataRow\"><td class = \"rowLabel\" style = \"font-weight: bold; text-align: right;\">3</td><td style = \"text-align: right;\">72</td><td style = \"text-align: right;\">30.5</td><td style = \"text-align: right;\">93.0</td><td style = \"text-align: right;\">156</td><td style = \"text-align: right;\">93.6</td><td style = \"text-align: right;\">41.0</td><td style = \"text-align: right;\">4.0</td><td style = \"text-align: right;\">2.03</td><td style = \"text-align: right;\">85</td></tr><tr class = \"dataRow\"><td class = \"rowLabel\" style = \"font-weight: bold; text-align: right;\">4</td><td style = \"text-align: right;\">24</td><td style = \"text-align: right;\">25.3</td><td style = \"text-align: right;\">84.0</td><td style = \"text-align: right;\">198</td><td style = \"text-align: right;\">131.4</td><td style = \"text-align: right;\">40.0</td><td style = \"text-align: right;\">5.0</td><td style = \"text-align: right;\">2.12</td><td style = \"text-align: right;\">89</td></tr><tr class = \"dataRow\"><td class = \"rowLabel\" style = \"font-weight: bold; text-align: right;\">5</td><td style = \"text-align: right;\">50</td><td style = \"text-align: right;\">23.0</td><td style = \"text-align: right;\">101.0</td><td style = \"text-align: right;\">192</td><td style = \"text-align: right;\">125.4</td><td style = \"text-align: right;\">52.0</td><td style = \"text-align: right;\">4.0</td><td style = \"text-align: right;\">1.86</td><td style = \"text-align: right;\">80</td></tr></tbody></table></div>"
      ],
      "text/latex": [
       "\\begin{tabular}{r|ccccccccc}\n",
       "\t& age & bmi & map & tc & ldl & hdl & tch & ltg & glu\\\\\n",
       "\t\\hline\n",
       "\t& Int64 & Float64 & Float64 & Int64 & Float64 & Float64 & Float64 & Float64 & Int64\\\\\n",
       "\t\\hline\n",
       "\t1 & 59 & 32.1 & 101.0 & 157 & 93.2 & 38.0 & 4.0 & 2.11 & 87 \\\\\n",
       "\t2 & 48 & 21.6 & 87.0 & 183 & 103.2 & 70.0 & 3.0 & 1.69 & 69 \\\\\n",
       "\t3 & 72 & 30.5 & 93.0 & 156 & 93.6 & 41.0 & 4.0 & 2.03 & 85 \\\\\n",
       "\t4 & 24 & 25.3 & 84.0 & 198 & 131.4 & 40.0 & 5.0 & 2.12 & 89 \\\\\n",
       "\t5 & 50 & 23.0 & 101.0 & 192 & 125.4 & 52.0 & 4.0 & 1.86 & 80 \\\\\n",
       "\\end{tabular}\n"
      ],
      "text/plain": [
       "\u001b[1m5×9 DataFrame\u001b[0m\n",
       "\u001b[1m Row \u001b[0m│\u001b[1m age   \u001b[0m\u001b[1m bmi     \u001b[0m\u001b[1m map     \u001b[0m\u001b[1m tc    \u001b[0m\u001b[1m ldl     \u001b[0m\u001b[1m hdl     \u001b[0m\u001b[1m tch     \u001b[0m\u001b[1m ltg     \u001b[0m\u001b[1m glu\u001b[0m ⋯\n",
       "\u001b[1m     \u001b[0m│\u001b[90m Int64 \u001b[0m\u001b[90m Float64 \u001b[0m\u001b[90m Float64 \u001b[0m\u001b[90m Int64 \u001b[0m\u001b[90m Float64 \u001b[0m\u001b[90m Float64 \u001b[0m\u001b[90m Float64 \u001b[0m\u001b[90m Float64 \u001b[0m\u001b[90m Int\u001b[0m ⋯\n",
       "─────┼──────────────────────────────────────────────────────────────────────────\n",
       "   1 │    59     32.1    101.0    157     93.2     38.0      4.0     2.11      ⋯\n",
       "   2 │    48     21.6     87.0    183    103.2     70.0      3.0     1.69\n",
       "   3 │    72     30.5     93.0    156     93.6     41.0      4.0     2.03\n",
       "   4 │    24     25.3     84.0    198    131.4     40.0      5.0     2.12\n",
       "   5 │    50     23.0    101.0    192    125.4     52.0      4.0     1.86      ⋯\n",
       "\u001b[36m                                                                1 column omitted\u001b[0m"
      ]
     },
     "metadata": {},
     "output_type": "display_data"
    }
   ],
   "source": [
    "data = CSV.read(\"diabetes.csv\", DataFrame)\n",
    "select!(data, Not([:prog, :sex]))\n",
    "first(data,5)"
   ]
  },
  {
   "cell_type": "markdown",
   "metadata": {},
   "source": [
    "## Création de l'ensemble d'entraînement et de validation"
   ]
  },
  {
   "cell_type": "code",
   "execution_count": 3,
   "metadata": {},
   "outputs": [
    {
     "data": {
      "text/html": [
       "<div><div style = \"float: left;\"><span>88×9 DataFrame</span></div><div style = \"float: right; font-style: italic;\"><span>63 rows omitted</span></div><div style = \"clear: both;\"></div></div><div class = \"data-frame\" style = \"overflow-x: scroll;\"><table class = \"data-frame\" style = \"margin-bottom: 6px;\"><thead><tr class = \"columnLabelRow\"><th class = \"stubheadLabel\" style = \"font-weight: bold; text-align: right;\">Row</th><th style = \"text-align: left;\">age</th><th style = \"text-align: left;\">bmi</th><th style = \"text-align: left;\">map</th><th style = \"text-align: left;\">tc</th><th style = \"text-align: left;\">ldl</th><th style = \"text-align: left;\">hdl</th><th style = \"text-align: left;\">tch</th><th style = \"text-align: left;\">ltg</th><th style = \"text-align: left;\">glu</th></tr><tr class = \"columnLabelRow\"><th class = \"stubheadLabel\" style = \"font-weight: bold; text-align: right;\"></th><th title = \"Int64\" style = \"text-align: left;\">Int64</th><th title = \"Float64\" style = \"text-align: left;\">Float64</th><th title = \"Float64\" style = \"text-align: left;\">Float64</th><th title = \"Int64\" style = \"text-align: left;\">Int64</th><th title = \"Float64\" style = \"text-align: left;\">Float64</th><th title = \"Float64\" style = \"text-align: left;\">Float64</th><th title = \"Float64\" style = \"text-align: left;\">Float64</th><th title = \"Float64\" style = \"text-align: left;\">Float64</th><th title = \"Int64\" style = \"text-align: left;\">Int64</th></tr></thead><tbody><tr class = \"dataRow\"><td class = \"rowLabel\" style = \"font-weight: bold; text-align: right;\">1</td><td style = \"text-align: right;\">59</td><td style = \"text-align: right;\">32.1</td><td style = \"text-align: right;\">101.0</td><td style = \"text-align: right;\">157</td><td style = \"text-align: right;\">93.2</td><td style = \"text-align: right;\">38.0</td><td style = \"text-align: right;\">4.0</td><td style = \"text-align: right;\">2.11</td><td style = \"text-align: right;\">87</td></tr><tr class = \"dataRow\"><td class = \"rowLabel\" style = \"font-weight: bold; text-align: right;\">2</td><td style = \"text-align: right;\">23</td><td style = \"text-align: right;\">22.6</td><td style = \"text-align: right;\">89.0</td><td style = \"text-align: right;\">139</td><td style = \"text-align: right;\">64.8</td><td style = \"text-align: right;\">61.0</td><td style = \"text-align: right;\">2.0</td><td style = \"text-align: right;\">1.82</td><td style = \"text-align: right;\">68</td></tr><tr class = \"dataRow\"><td class = \"rowLabel\" style = \"font-weight: bold; text-align: right;\">3</td><td style = \"text-align: right;\">56</td><td style = \"text-align: right;\">28.0</td><td style = \"text-align: right;\">85.0</td><td style = \"text-align: right;\">184</td><td style = \"text-align: right;\">144.8</td><td style = \"text-align: right;\">32.0</td><td style = \"text-align: right;\">6.0</td><td style = \"text-align: right;\">1.56</td><td style = \"text-align: right;\">77</td></tr><tr class = \"dataRow\"><td class = \"rowLabel\" style = \"font-weight: bold; text-align: right;\">4</td><td style = \"text-align: right;\">61</td><td style = \"text-align: right;\">32.0</td><td style = \"text-align: right;\">103.7</td><td style = \"text-align: right;\">210</td><td style = \"text-align: right;\">85.2</td><td style = \"text-align: right;\">35.0</td><td style = \"text-align: right;\">6.0</td><td style = \"text-align: right;\">2.65</td><td style = \"text-align: right;\">124</td></tr><tr class = \"dataRow\"><td class = \"rowLabel\" style = \"font-weight: bold; text-align: right;\">5</td><td style = \"text-align: right;\">31</td><td style = \"text-align: right;\">29.7</td><td style = \"text-align: right;\">88.0</td><td style = \"text-align: right;\">167</td><td style = \"text-align: right;\">103.4</td><td style = \"text-align: right;\">48.0</td><td style = \"text-align: right;\">4.0</td><td style = \"text-align: right;\">1.89</td><td style = \"text-align: right;\">78</td></tr><tr class = \"dataRow\"><td class = \"rowLabel\" style = \"font-weight: bold; text-align: right;\">6</td><td style = \"text-align: right;\">30</td><td style = \"text-align: right;\">25.2</td><td style = \"text-align: right;\">83.0</td><td style = \"text-align: right;\">178</td><td style = \"text-align: right;\">118.4</td><td style = \"text-align: right;\">34.0</td><td style = \"text-align: right;\">5.0</td><td style = \"text-align: right;\">2.11</td><td style = \"text-align: right;\">83</td></tr><tr class = \"dataRow\"><td class = \"rowLabel\" style = \"font-weight: bold; text-align: right;\">7</td><td style = \"text-align: right;\">63</td><td style = \"text-align: right;\">24.4</td><td style = \"text-align: right;\">73.0</td><td style = \"text-align: right;\">160</td><td style = \"text-align: right;\">91.4</td><td style = \"text-align: right;\">48.0</td><td style = \"text-align: right;\">3.0</td><td style = \"text-align: right;\">2.01</td><td style = \"text-align: right;\">78</td></tr><tr class = \"dataRow\"><td class = \"rowLabel\" style = \"font-weight: bold; text-align: right;\">8</td><td style = \"text-align: right;\">58</td><td style = \"text-align: right;\">38.0</td><td style = \"text-align: right;\">103.0</td><td style = \"text-align: right;\">150</td><td style = \"text-align: right;\">107.2</td><td style = \"text-align: right;\">22.0</td><td style = \"text-align: right;\">7.0</td><td style = \"text-align: right;\">2.02</td><td style = \"text-align: right;\">98</td></tr><tr class = \"dataRow\"><td class = \"rowLabel\" style = \"font-weight: bold; text-align: right;\">9</td><td style = \"text-align: right;\">48</td><td style = \"text-align: right;\">33.0</td><td style = \"text-align: right;\">123.0</td><td style = \"text-align: right;\">253</td><td style = \"text-align: right;\">163.6</td><td style = \"text-align: right;\">44.0</td><td style = \"text-align: right;\">6.0</td><td style = \"text-align: right;\">2.36</td><td style = \"text-align: right;\">97</td></tr><tr class = \"dataRow\"><td class = \"rowLabel\" style = \"font-weight: bold; text-align: right;\">10</td><td style = \"text-align: right;\">61</td><td style = \"text-align: right;\">32.7</td><td style = \"text-align: right;\">97.0</td><td style = \"text-align: right;\">177</td><td style = \"text-align: right;\">118.4</td><td style = \"text-align: right;\">29.0</td><td style = \"text-align: right;\">6.0</td><td style = \"text-align: right;\">2.17</td><td style = \"text-align: right;\">87</td></tr><tr class = \"dataRow\"><td class = \"rowLabel\" style = \"font-weight: bold; text-align: right;\">11</td><td style = \"text-align: right;\">37</td><td style = \"text-align: right;\">27.7</td><td style = \"text-align: right;\">93.0</td><td style = \"text-align: right;\">180</td><td style = \"text-align: right;\">119.4</td><td style = \"text-align: right;\">30.0</td><td style = \"text-align: right;\">6.0</td><td style = \"text-align: right;\">2.18</td><td style = \"text-align: right;\">88</td></tr><tr class = \"dataRow\"><td class = \"rowLabel\" style = \"font-weight: bold; text-align: right;\">12</td><td style = \"text-align: right;\">46</td><td style = \"text-align: right;\">24.9</td><td style = \"text-align: right;\">115.0</td><td style = \"text-align: right;\">198</td><td style = \"text-align: right;\">129.6</td><td style = \"text-align: right;\">54.0</td><td style = \"text-align: right;\">4.0</td><td style = \"text-align: right;\">1.86</td><td style = \"text-align: right;\">103</td></tr><tr class = \"dataRow\"><td class = \"rowLabel\" style = \"font-weight: bold; text-align: right;\">13</td><td style = \"text-align: right;\">37</td><td style = \"text-align: right;\">30.2</td><td style = \"text-align: right;\">87.0</td><td style = \"text-align: right;\">166</td><td style = \"text-align: right;\">96.0</td><td style = \"text-align: right;\">40.0</td><td style = \"text-align: right;\">4.15</td><td style = \"text-align: right;\">2.18</td><td style = \"text-align: right;\">87</td></tr><tr><td style = \"text-align: right;\">&vellip;</td><td style = \"text-align: right;\">&vellip;</td><td style = \"text-align: right;\">&vellip;</td><td style = \"text-align: right;\">&vellip;</td><td style = \"text-align: right;\">&vellip;</td><td style = \"text-align: right;\">&vellip;</td><td style = \"text-align: right;\">&vellip;</td><td style = \"text-align: right;\">&vellip;</td><td style = \"text-align: right;\">&vellip;</td><td style = \"text-align: right;\">&vellip;</td></tr><tr class = \"dataRow\"><td class = \"rowLabel\" style = \"font-weight: bold; text-align: right;\">77</td><td style = \"text-align: right;\">32</td><td style = \"text-align: right;\">26.5</td><td style = \"text-align: right;\">86.0</td><td style = \"text-align: right;\">184</td><td style = \"text-align: right;\">101.6</td><td style = \"text-align: right;\">53.0</td><td style = \"text-align: right;\">4.0</td><td style = \"text-align: right;\">2.17</td><td style = \"text-align: right;\">78</td></tr><tr class = \"dataRow\"><td class = \"rowLabel\" style = \"font-weight: bold; text-align: right;\">78</td><td style = \"text-align: right;\">25</td><td style = \"text-align: right;\">23.5</td><td style = \"text-align: right;\">88.0</td><td style = \"text-align: right;\">143</td><td style = \"text-align: right;\">80.8</td><td style = \"text-align: right;\">55.0</td><td style = \"text-align: right;\">3.0</td><td style = \"text-align: right;\">1.56</td><td style = \"text-align: right;\">83</td></tr><tr class = \"dataRow\"><td class = \"rowLabel\" style = \"font-weight: bold; text-align: right;\">79</td><td style = \"text-align: right;\">63</td><td style = \"text-align: right;\">26.0</td><td style = \"text-align: right;\">85.7</td><td style = \"text-align: right;\">155</td><td style = \"text-align: right;\">78.2</td><td style = \"text-align: right;\">46.0</td><td style = \"text-align: right;\">3.37</td><td style = \"text-align: right;\">2.19</td><td style = \"text-align: right;\">97</td></tr><tr class = \"dataRow\"><td class = \"rowLabel\" style = \"font-weight: bold; text-align: right;\">80</td><td style = \"text-align: right;\">66</td><td style = \"text-align: right;\">21.7</td><td style = \"text-align: right;\">126.0</td><td style = \"text-align: right;\">212</td><td style = \"text-align: right;\">127.8</td><td style = \"text-align: right;\">45.0</td><td style = \"text-align: right;\">4.71</td><td style = \"text-align: right;\">2.29</td><td style = \"text-align: right;\">101</td></tr><tr class = \"dataRow\"><td class = \"rowLabel\" style = \"font-weight: bold; text-align: right;\">81</td><td style = \"text-align: right;\">51</td><td style = \"text-align: right;\">24.1</td><td style = \"text-align: right;\">87.0</td><td style = \"text-align: right;\">261</td><td style = \"text-align: right;\">175.6</td><td style = \"text-align: right;\">69.0</td><td style = \"text-align: right;\">4.0</td><td style = \"text-align: right;\">1.91</td><td style = \"text-align: right;\">93</td></tr><tr class = \"dataRow\"><td class = \"rowLabel\" style = \"font-weight: bold; text-align: right;\">82</td><td style = \"text-align: right;\">55</td><td style = \"text-align: right;\">23.0</td><td style = \"text-align: right;\">94.7</td><td style = \"text-align: right;\">190</td><td style = \"text-align: right;\">137.6</td><td style = \"text-align: right;\">38.0</td><td style = \"text-align: right;\">5.0</td><td style = \"text-align: right;\">1.86</td><td style = \"text-align: right;\">106</td></tr><tr class = \"dataRow\"><td class = \"rowLabel\" style = \"font-weight: bold; text-align: right;\">83</td><td style = \"text-align: right;\">27</td><td style = \"text-align: right;\">33.6</td><td style = \"text-align: right;\">110.0</td><td style = \"text-align: right;\">246</td><td style = \"text-align: right;\">156.6</td><td style = \"text-align: right;\">57.0</td><td style = \"text-align: right;\">4.0</td><td style = \"text-align: right;\">2.21</td><td style = \"text-align: right;\">89</td></tr><tr class = \"dataRow\"><td class = \"rowLabel\" style = \"font-weight: bold; text-align: right;\">84</td><td style = \"text-align: right;\">49</td><td style = \"text-align: right;\">27.4</td><td style = \"text-align: right;\">89.0</td><td style = \"text-align: right;\">177</td><td style = \"text-align: right;\">113.0</td><td style = \"text-align: right;\">37.0</td><td style = \"text-align: right;\">5.0</td><td style = \"text-align: right;\">2.13</td><td style = \"text-align: right;\">97</td></tr><tr class = \"dataRow\"><td class = \"rowLabel\" style = \"font-weight: bold; text-align: right;\">85</td><td style = \"text-align: right;\">37</td><td style = \"text-align: right;\">23.3</td><td style = \"text-align: right;\">88.0</td><td style = \"text-align: right;\">223</td><td style = \"text-align: right;\">142.0</td><td style = \"text-align: right;\">65.0</td><td style = \"text-align: right;\">3.4</td><td style = \"text-align: right;\">1.89</td><td style = \"text-align: right;\">82</td></tr><tr class = \"dataRow\"><td class = \"rowLabel\" style = \"font-weight: bold; text-align: right;\">86</td><td style = \"text-align: right;\">51</td><td style = \"text-align: right;\">31.5</td><td style = \"text-align: right;\">93.0</td><td style = \"text-align: right;\">231</td><td style = \"text-align: right;\">144.0</td><td style = \"text-align: right;\">49.0</td><td style = \"text-align: right;\">4.7</td><td style = \"text-align: right;\">2.28</td><td style = \"text-align: right;\">117</td></tr><tr class = \"dataRow\"><td class = \"rowLabel\" style = \"font-weight: bold; text-align: right;\">87</td><td style = \"text-align: right;\">47</td><td style = \"text-align: right;\">24.9</td><td style = \"text-align: right;\">75.0</td><td style = \"text-align: right;\">225</td><td style = \"text-align: right;\">166.0</td><td style = \"text-align: right;\">42.0</td><td style = \"text-align: right;\">5.0</td><td style = \"text-align: right;\">1.93</td><td style = \"text-align: right;\">102</td></tr><tr class = \"dataRow\"><td class = \"rowLabel\" style = \"font-weight: bold; text-align: right;\">88</td><td style = \"text-align: right;\">60</td><td style = \"text-align: right;\">24.9</td><td style = \"text-align: right;\">99.7</td><td style = \"text-align: right;\">162</td><td style = \"text-align: right;\">106.6</td><td style = \"text-align: right;\">43.0</td><td style = \"text-align: right;\">3.77</td><td style = \"text-align: right;\">1.79</td><td style = \"text-align: right;\">95</td></tr></tbody></table></div>"
      ],
      "text/latex": [
       "\\begin{tabular}{r|ccccccccc}\n",
       "\t& age & bmi & map & tc & ldl & hdl & tch & ltg & glu\\\\\n",
       "\t\\hline\n",
       "\t& Int64 & Float64 & Float64 & Int64 & Float64 & Float64 & Float64 & Float64 & Int64\\\\\n",
       "\t\\hline\n",
       "\t1 & 59 & 32.1 & 101.0 & 157 & 93.2 & 38.0 & 4.0 & 2.11 & 87 \\\\\n",
       "\t2 & 23 & 22.6 & 89.0 & 139 & 64.8 & 61.0 & 2.0 & 1.82 & 68 \\\\\n",
       "\t3 & 56 & 28.0 & 85.0 & 184 & 144.8 & 32.0 & 6.0 & 1.56 & 77 \\\\\n",
       "\t4 & 61 & 32.0 & 103.7 & 210 & 85.2 & 35.0 & 6.0 & 2.65 & 124 \\\\\n",
       "\t5 & 31 & 29.7 & 88.0 & 167 & 103.4 & 48.0 & 4.0 & 1.89 & 78 \\\\\n",
       "\t6 & 30 & 25.2 & 83.0 & 178 & 118.4 & 34.0 & 5.0 & 2.11 & 83 \\\\\n",
       "\t7 & 63 & 24.4 & 73.0 & 160 & 91.4 & 48.0 & 3.0 & 2.01 & 78 \\\\\n",
       "\t8 & 58 & 38.0 & 103.0 & 150 & 107.2 & 22.0 & 7.0 & 2.02 & 98 \\\\\n",
       "\t9 & 48 & 33.0 & 123.0 & 253 & 163.6 & 44.0 & 6.0 & 2.36 & 97 \\\\\n",
       "\t10 & 61 & 32.7 & 97.0 & 177 & 118.4 & 29.0 & 6.0 & 2.17 & 87 \\\\\n",
       "\t11 & 37 & 27.7 & 93.0 & 180 & 119.4 & 30.0 & 6.0 & 2.18 & 88 \\\\\n",
       "\t12 & 46 & 24.9 & 115.0 & 198 & 129.6 & 54.0 & 4.0 & 1.86 & 103 \\\\\n",
       "\t13 & 37 & 30.2 & 87.0 & 166 & 96.0 & 40.0 & 4.15 & 2.18 & 87 \\\\\n",
       "\t14 & 29 & 26.0 & 83.0 & 141 & 65.2 & 64.0 & 2.0 & 1.77 & 83 \\\\\n",
       "\t15 & 67 & 24.0 & 83.0 & 143 & 77.2 & 49.0 & 3.0 & 1.92 & 94 \\\\\n",
       "\t16 & 52 & 24.3 & 86.0 & 197 & 133.6 & 44.0 & 5.0 & 1.99 & 91 \\\\\n",
       "\t17 & 29 & 19.4 & 83.0 & 152 & 105.8 & 39.0 & 4.0 & 1.56 & 83 \\\\\n",
       "\t18 & 35 & 20.4 & 65.0 & 187 & 105.6 & 67.0 & 2.79 & 1.86 & 78 \\\\\n",
       "\t19 & 41 & 34.6 & 87.3 & 205 & 142.6 & 41.0 & 5.0 & 2.03 & 110 \\\\\n",
       "\t20 & 49 & 25.9 & 91.0 & 178 & 106.6 & 52.0 & 3.0 & 1.99 & 75 \\\\\n",
       "\t21 & 41 & 32.4 & 94.0 & 171 & 104.4 & 56.0 & 3.0 & 1.72 & 76 \\\\\n",
       "\t22 & 22 & 19.3 & 82.0 & 156 & 93.2 & 52.0 & 3.0 & 1.73 & 71 \\\\\n",
       "\t23 & 54 & 26.8 & 87.0 & 206 & 122.0 & 68.0 & 3.0 & 1.9 & 80 \\\\\n",
       "\t24 & 54 & 27.7 & 113.0 & 200 & 128.4 & 37.0 & 5.0 & 2.24 & 113 \\\\\n",
       "\t$\\dots$ & $\\dots$ & $\\dots$ & $\\dots$ & $\\dots$ & $\\dots$ & $\\dots$ & $\\dots$ & $\\dots$ & $\\dots$ \\\\\n",
       "\\end{tabular}\n"
      ],
      "text/plain": [
       "\u001b[1m88×9 DataFrame\u001b[0m\n",
       "\u001b[1m Row \u001b[0m│\u001b[1m age   \u001b[0m\u001b[1m bmi     \u001b[0m\u001b[1m map     \u001b[0m\u001b[1m tc    \u001b[0m\u001b[1m ldl     \u001b[0m\u001b[1m hdl     \u001b[0m\u001b[1m tch     \u001b[0m\u001b[1m ltg     \u001b[0m\u001b[1m glu\u001b[0m ⋯\n",
       "\u001b[1m     \u001b[0m│\u001b[90m Int64 \u001b[0m\u001b[90m Float64 \u001b[0m\u001b[90m Float64 \u001b[0m\u001b[90m Int64 \u001b[0m\u001b[90m Float64 \u001b[0m\u001b[90m Float64 \u001b[0m\u001b[90m Float64 \u001b[0m\u001b[90m Float64 \u001b[0m\u001b[90m Int\u001b[0m ⋯\n",
       "─────┼──────────────────────────────────────────────────────────────────────────\n",
       "   1 │    59     32.1    101.0    157     93.2     38.0     4.0      2.11      ⋯\n",
       "   2 │    23     22.6     89.0    139     64.8     61.0     2.0      1.82\n",
       "   3 │    56     28.0     85.0    184    144.8     32.0     6.0      1.56\n",
       "   4 │    61     32.0    103.7    210     85.2     35.0     6.0      2.65    1\n",
       "   5 │    31     29.7     88.0    167    103.4     48.0     4.0      1.89      ⋯\n",
       "   6 │    30     25.2     83.0    178    118.4     34.0     5.0      2.11\n",
       "   7 │    63     24.4     73.0    160     91.4     48.0     3.0      2.01\n",
       "   8 │    58     38.0    103.0    150    107.2     22.0     7.0      2.02\n",
       "  ⋮  │   ⋮       ⋮        ⋮       ⋮       ⋮        ⋮        ⋮        ⋮       ⋮ ⋱\n",
       "  82 │    55     23.0     94.7    190    137.6     38.0     5.0      1.86    1 ⋯\n",
       "  83 │    27     33.6    110.0    246    156.6     57.0     4.0      2.21\n",
       "  84 │    49     27.4     89.0    177    113.0     37.0     5.0      2.13\n",
       "  85 │    37     23.3     88.0    223    142.0     65.0     3.4      1.89\n",
       "  86 │    51     31.5     93.0    231    144.0     49.0     4.7      2.28    1 ⋯\n",
       "  87 │    47     24.9     75.0    225    166.0     42.0     5.0      1.93    1\n",
       "  88 │    60     24.9     99.7    162    106.6     43.0     3.77     1.79\n",
       "\u001b[36m                                                    1 column and 73 rows omitted\u001b[0m"
      ]
     },
     "metadata": {},
     "output_type": "display_data"
    }
   ],
   "source": [
    "Random.seed!(3302)\n",
    "\n",
    "ntrain = round(Int, .8*nrow(data))\n",
    "\n",
    "train_id = sample(1:nrow(data), ntrain, replace=false, ordered=true)\n",
    "valid_id = setdiff(1:nrow(data), train_id)\n",
    "\n",
    "train = data[train_id, :]\n",
    "valid = data[valid_id, :]"
   ]
  },
  {
   "cell_type": "markdown",
   "metadata": {},
   "source": [
    "## Estimation des paramètres de standardisation des variables\n",
    "\n",
    "Paramètres estimés avec l'ensemble d'entraînement."
   ]
  },
  {
   "cell_type": "code",
   "execution_count": 4,
   "metadata": {},
   "outputs": [
    {
     "data": {
      "text/plain": [
       "8"
      ]
     },
     "metadata": {},
     "output_type": "display_data"
    }
   ],
   "source": [
    "# Standardisation des variables\n",
    "dt = StatsBase.fit(StatsBase.ZScoreTransform, Matrix{Float64}(train), dims=1)\n",
    "transdata = StatsBase.transform(dt, Matrix{Float64}(train))\n",
    "\n",
    "X = transdata[:,1:8]\n",
    "y = transdata[:,9]\n",
    "\n",
    "n = length(y)\n",
    "m = size(X,2)"
   ]
  },
  {
   "cell_type": "markdown",
   "metadata": {},
   "source": [
    "# Exercice 1 : Régression Ridge"
   ]
  },
  {
   "cell_type": "markdown",
   "metadata": {},
   "source": [
    "### (a) Estimez les coefficients de régression Ridge en utilisant $\\lambda = 0$."
   ]
  },
  {
   "cell_type": "code",
   "execution_count": 5,
   "metadata": {},
   "outputs": [],
   "source": []
  },
  {
   "cell_type": "markdown",
   "metadata": {},
   "source": [
    "### (b) Estimez les coefficients de régression Ridge en utilisant $\\lambda = 1$."
   ]
  },
  {
   "cell_type": "code",
   "execution_count": 6,
   "metadata": {},
   "outputs": [],
   "source": []
  },
  {
   "cell_type": "markdown",
   "metadata": {},
   "source": [
    "### (c) Pour $0 \\leq \\lambda \\leq 10$, estimez les coefficients de régression puis affichez-les en fonction de $\\lambda$.\n",
    "\n",
    "Ce graphique s'appelle la trace des coefficients de régression. Lorsqu'il y a multicolinéarité, les estimations des coefficients de régression varient beaucoup en fonction de $\\lambda$.\n",
    "\n",
    "Je vous propose de remplir la matrice $\\hat\\beta$ constituée de $p$ colonnes. Chaque ligne correspondra aux estimations des coefficients de régression pour une valeur de $\\lambda$ donnée. Cette matrice sera par la suite transformée en DataFrame pour un affichage simplifié."
   ]
  },
  {
   "cell_type": "code",
   "execution_count": 7,
   "metadata": {},
   "outputs": [],
   "source": []
  },
  {
   "cell_type": "markdown",
   "metadata": {},
   "source": [
    "### (d) Estimez λ en minisant l'erreur de prédiction sur l'échantillon de validation"
   ]
  },
  {
   "cell_type": "code",
   "execution_count": 8,
   "metadata": {},
   "outputs": [],
   "source": []
  },
  {
   "cell_type": "markdown",
   "metadata": {},
   "source": [
    "### (e) Tracez la loi *a posteriori* marginale du coefficient de régression correspond à la variable *age*.\n",
    "\n",
    "Est-ce que cette variable possède un pouvoir prédictif significatif ? \n",
    "\n",
    "Utiliser la commande `LocationScale(μ, sqrt(Σ), TDist(ν))` pour créer un objet de type *loi de Student multidimensionnelle à ν degrés de liberté, de paramètre de localisation μ et de paramètre d'échelle Σ*."
   ]
  },
  {
   "cell_type": "code",
   "execution_count": 9,
   "metadata": {},
   "outputs": [],
   "source": []
  },
  {
   "cell_type": "markdown",
   "metadata": {},
   "source": [
    "### (f) Implémentez l'échantillonnage de Gibbs pour générer un échantillon de la loi *a posteriori* de la régression ridge.\n",
    "\n",
    "Utilisez votre estimation λ̂."
   ]
  },
  {
   "cell_type": "code",
   "execution_count": 10,
   "metadata": {},
   "outputs": [],
   "source": []
  },
  {
   "cell_type": "markdown",
   "metadata": {},
   "source": [
    "## Exercice 2 : Exploration stochastique de l'espace des modèles [OPTIONEL]\n",
    "\n",
    "Dans cet exercice, on reprend le jeux de données *bodyfat.csv* comportant le pourcentage de gras de 20 patientes en fonction des variables explicatives suivantes :\n",
    "\n",
    "$x_1$ : l'épaisseur des plis de la peau des triceps (en mm) ;<br/>\n",
    "$x_2$ : le tour de cuisse (en mm) ;<br/>\n",
    "$x_3$ : la circonférence du bras en (mm).<br/>\n",
    "\n",
    "Nous allons implémenter l'échantillonnage de Gibbs pour explorer de façon stochastique l'espace des modèele. Puisqu'il n'y a que 3 variables explicatives dans ce cas-ci, il est possible de déterminer quel est le *vrai* meilleur modèle par énumération complète de tous les modèles.\n"
   ]
  },
  {
   "cell_type": "code",
   "execution_count": 11,
   "metadata": {},
   "outputs": [
    {
     "data": {
      "text/html": [
       "<div><div style = \"float: left;\"><span>5×4 DataFrame</span></div><div style = \"clear: both;\"></div></div><div class = \"data-frame\" style = \"overflow-x: scroll;\"><table class = \"data-frame\" style = \"margin-bottom: 6px;\"><thead><tr class = \"columnLabelRow\"><th class = \"stubheadLabel\" style = \"font-weight: bold; text-align: right;\">Row</th><th style = \"text-align: left;\">Triceps</th><th style = \"text-align: left;\">Thigh</th><th style = \"text-align: left;\">Midarm</th><th style = \"text-align: left;\">Bodyfat</th></tr><tr class = \"columnLabelRow\"><th class = \"stubheadLabel\" style = \"font-weight: bold; text-align: right;\"></th><th title = \"Float64\" style = \"text-align: left;\">Float64</th><th title = \"Float64\" style = \"text-align: left;\">Float64</th><th title = \"Float64\" style = \"text-align: left;\">Float64</th><th title = \"Float64\" style = \"text-align: left;\">Float64</th></tr></thead><tbody><tr class = \"dataRow\"><td class = \"rowLabel\" style = \"font-weight: bold; text-align: right;\">1</td><td style = \"text-align: right;\">19.5</td><td style = \"text-align: right;\">43.1</td><td style = \"text-align: right;\">29.1</td><td style = \"text-align: right;\">11.9</td></tr><tr class = \"dataRow\"><td class = \"rowLabel\" style = \"font-weight: bold; text-align: right;\">2</td><td style = \"text-align: right;\">24.7</td><td style = \"text-align: right;\">49.8</td><td style = \"text-align: right;\">28.2</td><td style = \"text-align: right;\">22.8</td></tr><tr class = \"dataRow\"><td class = \"rowLabel\" style = \"font-weight: bold; text-align: right;\">3</td><td style = \"text-align: right;\">30.7</td><td style = \"text-align: right;\">51.9</td><td style = \"text-align: right;\">37.0</td><td style = \"text-align: right;\">18.7</td></tr><tr class = \"dataRow\"><td class = \"rowLabel\" style = \"font-weight: bold; text-align: right;\">4</td><td style = \"text-align: right;\">29.8</td><td style = \"text-align: right;\">54.3</td><td style = \"text-align: right;\">31.1</td><td style = \"text-align: right;\">20.1</td></tr><tr class = \"dataRow\"><td class = \"rowLabel\" style = \"font-weight: bold; text-align: right;\">5</td><td style = \"text-align: right;\">19.1</td><td style = \"text-align: right;\">42.2</td><td style = \"text-align: right;\">30.9</td><td style = \"text-align: right;\">12.9</td></tr></tbody></table></div>"
      ],
      "text/latex": [
       "\\begin{tabular}{r|cccc}\n",
       "\t& Triceps & Thigh & Midarm & Bodyfat\\\\\n",
       "\t\\hline\n",
       "\t& Float64 & Float64 & Float64 & Float64\\\\\n",
       "\t\\hline\n",
       "\t1 & 19.5 & 43.1 & 29.1 & 11.9 \\\\\n",
       "\t2 & 24.7 & 49.8 & 28.2 & 22.8 \\\\\n",
       "\t3 & 30.7 & 51.9 & 37.0 & 18.7 \\\\\n",
       "\t4 & 29.8 & 54.3 & 31.1 & 20.1 \\\\\n",
       "\t5 & 19.1 & 42.2 & 30.9 & 12.9 \\\\\n",
       "\\end{tabular}\n"
      ],
      "text/plain": [
       "\u001b[1m5×4 DataFrame\u001b[0m\n",
       "\u001b[1m Row \u001b[0m│\u001b[1m Triceps \u001b[0m\u001b[1m Thigh   \u001b[0m\u001b[1m Midarm  \u001b[0m\u001b[1m Bodyfat \u001b[0m\n",
       "\u001b[1m     \u001b[0m│\u001b[90m Float64 \u001b[0m\u001b[90m Float64 \u001b[0m\u001b[90m Float64 \u001b[0m\u001b[90m Float64 \u001b[0m\n",
       "─────┼────────────────────────────────────\n",
       "   1 │    19.5     43.1     29.1     11.9\n",
       "   2 │    24.7     49.8     28.2     22.8\n",
       "   3 │    30.7     51.9     37.0     18.7\n",
       "   4 │    29.8     54.3     31.1     20.1\n",
       "   5 │    19.1     42.2     30.9     12.9"
      ]
     },
     "metadata": {},
     "output_type": "display_data"
    }
   ],
   "source": [
    "# Chargement des données\n",
    "\n",
    "data = CSV.read(\"bodyfat.csv\", DataFrame)\n",
    "first(data, 5)"
   ]
  },
  {
   "cell_type": "code",
   "execution_count": 12,
   "metadata": {},
   "outputs": [
    {
     "data": {
      "text/plain": [
       "3"
      ]
     },
     "metadata": {},
     "output_type": "display_data"
    }
   ],
   "source": [
    "# Standardisation des variables\n",
    "\n",
    "dt = StatsBase.fit(StatsBase.ZScoreTransform, Matrix{Float64}(data), dims=1)\n",
    "transdata = StatsBase.transform(dt, Matrix{Float64}(data))\n",
    "\n",
    "X = transdata[:,1:3]\n",
    "y = transdata[:,4]\n",
    "\n",
    "n = length(y)\n",
    "m = size(X,2)"
   ]
  },
  {
   "cell_type": "code",
   "execution_count": 13,
   "metadata": {},
   "outputs": [
    {
     "data": {
      "text/plain": [
       "8-element Vector{BitArray}:\n",
       " [0, 0, 0]\n",
       " [0, 0, 1]\n",
       " [0, 1, 0]\n",
       " [0, 1, 1]\n",
       " [1, 0, 0]\n",
       " [1, 0, 1]\n",
       " [1, 1, 0]\n",
       " [1, 1, 1]"
      ]
     },
     "metadata": {},
     "output_type": "display_data"
    }
   ],
   "source": [
    "# Énumération de tous les modèles possibles\n",
    "\n",
    "itr = reverse.(Iterators.product(fill(0:1,m)...))[:]\n",
    "\n",
    "M = BitArray[]\n",
    "for i in eachindex(itr)\n",
    "   push!(M, [itr[i]...] .== 1)\n",
    "end\n",
    "M"
   ]
  },
  {
   "cell_type": "markdown",
   "metadata": {},
   "source": [
    "### (a) Écrivez une fonction permettant de calculer le BIC d'un modèle.\n",
    "\n",
    "La fonction devrait prendre comme argument un vecteur de booléens indicant quelles variables sont incluses dans le modèle. La fonction devrait prendre en argument par exemple le vecteur [true true true]."
   ]
  },
  {
   "cell_type": "code",
   "execution_count": 14,
   "metadata": {},
   "outputs": [
    {
     "data": {
      "text/plain": [
       "getbic (generic function with 1 method)"
      ]
     },
     "metadata": {},
     "output_type": "display_data"
    }
   ],
   "source": [
    "function getbic(γ::BitArray)\n",
    "    \n",
    "    if any(γ)\n",
    "    \n",
    "        Xᵧ = X[:,γ]\n",
    "\n",
    "        β̂ = (Xᵧ'Xᵧ)\\Xᵧ'y\n",
    "\n",
    "        μ̂ = Xᵧ*β̂\n",
    "\n",
    "        e = y-μ̂\n",
    "\n",
    "        σ̂² = dot(e,e)/(n-m) \n",
    "\n",
    "        BIC = sum(logpdf.(Normal.(μ̂,sqrt(σ̂²)),y)) - (count(γ)+1)/2*log(n)\n",
    "        \n",
    "    else\n",
    "        \n",
    "        σ̂² = dot(y,y)/(n-m)\n",
    "        \n",
    "        BIC = sum(logpdf.(Normal.(0,sqrt(σ̂²)),y)) - (count(γ)+1)/2*log(n)\n",
    "        \n",
    "    end\n",
    "    \n",
    "    return BIC\n",
    "    \n",
    "end"
   ]
  },
  {
   "cell_type": "markdown",
   "metadata": {},
   "source": [
    "### (b) Calculer le BIC pour chacun des modèles possibles\n",
    "\n",
    "Quel est le meilleur modèle ?"
   ]
  },
  {
   "cell_type": "code",
   "execution_count": 15,
   "metadata": {},
   "outputs": [
    {
     "data": {
      "text/plain": [
       "8-element Vector{Float64}:\n",
       " -29.488893151972693\n",
       " -30.781769512642263\n",
       " -16.244618147055984\n",
       " -17.536369508313587\n",
       " -18.570129722290112\n",
       " -17.05936046854954\n",
       " -17.431511258144234\n",
       " -17.819953137176938"
      ]
     },
     "metadata": {},
     "output_type": "display_data"
    }
   ],
   "source": [
    "BIC = getbic.(M)"
   ]
  },
  {
   "cell_type": "code",
   "execution_count": 16,
   "metadata": {},
   "outputs": [
    {
     "data": {
      "text/plain": [
       "3-element BitVector:\n",
       " 0\n",
       " 1\n",
       " 0"
      ]
     },
     "metadata": {},
     "output_type": "display_data"
    }
   ],
   "source": [
    "_, ind = findmax(BIC)\n",
    "M[3]"
   ]
  },
  {
   "cell_type": "markdown",
   "metadata": {},
   "source": [
    "### (c) Exécuter la cellule suivante pour parcourir l'espace des modèles avec l'échantillonnage de Gibbs"
   ]
  },
  {
   "cell_type": "code",
   "execution_count": 17,
   "metadata": {},
   "outputs": [
    {
     "data": {
      "text/plain": [
       "softmax (generic function with 1 method)"
      ]
     },
     "metadata": {},
     "output_type": "display_data"
    }
   ],
   "source": [
    "function softmax(x::AbstractVector{<:Real})\n",
    "    \n",
    "    z = x .- maximum(x)\n",
    "    \n",
    "    e = exp.(z)\n",
    "    \n",
    "    s = e ./ sum(e)\n",
    "    \n",
    "end"
   ]
  },
  {
   "cell_type": "code",
   "execution_count": 18,
   "metadata": {},
   "outputs": [],
   "source": [
    "niter = 10000\n",
    "\n",
    "γ = trues(3,niter)\n",
    "\n",
    "for i=2:niter\n",
    "   γ[:,i] = γ[:,i-1]\n",
    "    for j=1:m\n",
    "        \n",
    "        η₀ = γ[:,i]\n",
    "        η₁ = γ[:,i]\n",
    "        η₀[j] = false\n",
    "        η₁[j] = true\n",
    "        \n",
    "        #θ = exp(getbic(η₁)) / ( exp(getbic(η₀)) + exp(getbic(η₁)))\n",
    "        s = softmax(getbic.([η₀, η₁])) # évite l'instabilité numérique\n",
    "        θ = s[2]\n",
    "        \n",
    "        γ[j,i] = rand(Bernoulli(θ))\n",
    "        \n",
    "    end\n",
    "end"
   ]
  },
  {
   "cell_type": "markdown",
   "metadata": {},
   "source": [
    "### (d) Exécuter les cellules suivantes pour déterminer le modèle choisi pour chacune des itérations"
   ]
  },
  {
   "cell_type": "code",
   "execution_count": 19,
   "metadata": {},
   "outputs": [
    {
     "data": {
      "text/plain": [
       "modelid (generic function with 1 method)"
      ]
     },
     "metadata": {},
     "output_type": "display_data"
    }
   ],
   "source": [
    "function modelid(M::Vector{BitArray},γ::BitArray)\n",
    "    \n",
    "    @assert length(γ)==length(M[1])\n",
    "    \n",
    "    ind = 1\n",
    "    \n",
    "    while M[ind] != γ\n",
    "        ind +=1\n",
    "    end\n",
    "    \n",
    "    return ind\n",
    "        \n",
    "end"
   ]
  },
  {
   "cell_type": "code",
   "execution_count": 20,
   "metadata": {},
   "outputs": [
    {
     "data": {
      "text/html": [
       "<div><div style = \"float: left;\"><span>6×2 DataFrame</span></div><div style = \"clear: both;\"></div></div><div class = \"data-frame\" style = \"overflow-x: scroll;\"><table class = \"data-frame\" style = \"margin-bottom: 6px;\"><thead><tr class = \"columnLabelRow\"><th class = \"stubheadLabel\" style = \"font-weight: bold; text-align: right;\">Row</th><th style = \"text-align: left;\">Modèle</th><th style = \"text-align: left;\">Itérations</th></tr><tr class = \"columnLabelRow\"><th class = \"stubheadLabel\" style = \"font-weight: bold; text-align: right;\"></th><th title = \"Int64\" style = \"text-align: left;\">Int64</th><th title = \"Int64\" style = \"text-align: left;\">Int64</th></tr></thead><tbody><tr class = \"dataRow\"><td class = \"rowLabel\" style = \"font-weight: bold; text-align: right;\">1</td><td style = \"text-align: right;\">3</td><td style = \"text-align: right;\">4443</td></tr><tr class = \"dataRow\"><td class = \"rowLabel\" style = \"font-weight: bold; text-align: right;\">2</td><td style = \"text-align: right;\">6</td><td style = \"text-align: right;\">1736</td></tr><tr class = \"dataRow\"><td class = \"rowLabel\" style = \"font-weight: bold; text-align: right;\">3</td><td style = \"text-align: right;\">7</td><td style = \"text-align: right;\">1311</td></tr><tr class = \"dataRow\"><td class = \"rowLabel\" style = \"font-weight: bold; text-align: right;\">4</td><td style = \"text-align: right;\">4</td><td style = \"text-align: right;\">1186</td></tr><tr class = \"dataRow\"><td class = \"rowLabel\" style = \"font-weight: bold; text-align: right;\">5</td><td style = \"text-align: right;\">8</td><td style = \"text-align: right;\">903</td></tr><tr class = \"dataRow\"><td class = \"rowLabel\" style = \"font-weight: bold; text-align: right;\">6</td><td style = \"text-align: right;\">5</td><td style = \"text-align: right;\">421</td></tr></tbody></table></div>"
      ],
      "text/latex": [
       "\\begin{tabular}{r|cc}\n",
       "\t& Modèle & Itérations\\\\\n",
       "\t\\hline\n",
       "\t& Int64 & Int64\\\\\n",
       "\t\\hline\n",
       "\t1 & 3 & 4443 \\\\\n",
       "\t2 & 6 & 1736 \\\\\n",
       "\t3 & 7 & 1311 \\\\\n",
       "\t4 & 4 & 1186 \\\\\n",
       "\t5 & 8 & 903 \\\\\n",
       "\t6 & 5 & 421 \\\\\n",
       "\\end{tabular}\n"
      ],
      "text/plain": [
       "\u001b[1m6×2 DataFrame\u001b[0m\n",
       "\u001b[1m Row \u001b[0m│\u001b[1m Modèle \u001b[0m\u001b[1m Itérations \u001b[0m\n",
       "\u001b[1m     \u001b[0m│\u001b[90m Int64  \u001b[0m\u001b[90m Int64      \u001b[0m\n",
       "─────┼────────────────────\n",
       "   1 │      3        4443\n",
       "   2 │      6        1736\n",
       "   3 │      7        1311\n",
       "   4 │      4        1186\n",
       "   5 │      8         903\n",
       "   6 │      5         421"
      ]
     },
     "metadata": {},
     "output_type": "display_data"
    }
   ],
   "source": [
    "id = [modelid(M,γ[:,i]) for i=1:size(γ,2)]\n",
    "\n",
    "df = DataFrame(Itération = 1:niter, Modèle = id)\n",
    "\n",
    "groupby(df, :Modèle)\n",
    "\n",
    "nb = combine(groupby(df, :Modèle), :Itération=> length => :Itérations)\n",
    "\n",
    "sort!(nb, :Itérations, rev=true)"
   ]
  },
  {
   "cell_type": "markdown",
   "metadata": {},
   "source": [
    "### (e) Selon les résultats en (d), quel est le meilleur modèle ? Est-ce cohérent avec le BIC calculé en (a) ?"
   ]
  },
  {
   "cell_type": "code",
   "execution_count": 21,
   "metadata": {},
   "outputs": [],
   "source": []
  }
 ],
 "metadata": {
  "@webio": {
   "lastCommId": null,
   "lastKernelId": null
  },
  "hide_input": false,
  "kernelspec": {
   "display_name": "Julia 1.11.6",
   "language": "julia",
   "name": "julia-1.11"
  },
  "language_info": {
   "file_extension": ".jl",
   "mimetype": "application/julia",
   "name": "julia",
   "version": "1.11.6"
  }
 },
 "nbformat": 4,
 "nbformat_minor": 4
}
