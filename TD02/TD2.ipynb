{
 "cells": [
  {
   "cell_type": "markdown",
   "metadata": {},
   "source": [
    "# MTH3302 : Méthodes probabilistes et statistiques pour l'I.A.\n",
    "\n",
    "Jonathan Jalbert<br/>\n",
    "Professeur agrégé au Département de mathématiques et de génie industriel<br/>\n",
    "Polytechnique Montréal<br/>\n",
    "\n",
    "\n",
    "# TD2 - Régression linéaire\n",
    "\n",
    "Ce TD concerne la régression linéaire (Chapitre 2 du cours). À la fin de ce TD, vous devriez être avoir été en mesure de :\n",
    "- Estimer les coefficients des paramètres de la régression linéaire simple avec la méthode des moindres carrés.\n",
    "- Estimer les coefficients des paramètres de la régression linéaire multiple avec la méthode des moindres carrés.\n",
    "- Calculer le coefficient de détermination.\n",
    "- Sélectionner le meilleur modèle unidimensionnel.\n",
    "- Calculer avec des méthodes numériquement stables les coefficients de régression.\n",
    "\n",
    "# Contexte : Pourcentage de matière grasse\n",
    "\n",
    "Le pourcentage de matière grasse d'un patient est une mesure largement utilisée en médecine pour estimer les facteurs de risque de plusieurs maladies. Cette quantité est cependant très difficile à mesurer. La mesure implique en effet d’immerger le patient dans un cylindre gradué rempli d’eau afin de calculer sa masse volumique. Cette procédure est non seulement inconfortable pour le patient mais pratiquement impossible à effectuer dans le bureau du médecin.\n",
    "\n",
    "Par conséquent, on souhaite savoir si on peut prédire le pourcentage de gras Y avec trois mesures beaucoup plus simples à obtenir :\n",
    "\n",
    "- $x_1$ : l'épaisseur des plis de la peau des triceps (en mm) ;<br/>\n",
    "- $x_2$ : le tour de cuisse (en mm) ;<br/>\n",
    "- $x_3$ : la circonférence du bras en (mm).<br/>\n",
    "\n",
    "Les mesures du fichier *bodyfat.csv* proviennent de 20 femmes en bonne santé, âgées entre 20 et 34 ans. Ceci est un jeu de données réel.\n"
   ]
  },
  {
   "cell_type": "code",
   "execution_count": null,
   "metadata": {},
   "outputs": [],
   "source": [
    "# Chargement des librairies\n",
    "using CSV, DataFrames, Distributions, Gadfly, Statistics, LinearAlgebra"
   ]
  },
  {
   "cell_type": "markdown",
   "metadata": {},
   "source": [
    "# Exercice 1 - Régression linéaire simple\n",
    "\n",
    "Nous étudierons dans cet exercice la meilleure variable explicative pour le pourcentage de matière grasse."
   ]
  },
  {
   "cell_type": "code",
   "execution_count": null,
   "metadata": {},
   "outputs": [],
   "source": [
    "# Chargement des données\n",
    "data = CSV.read(\"bodyfat.csv\", DataFrame)\n",
    "first(data,5)"
   ]
  },
  {
   "cell_type": "markdown",
   "metadata": {},
   "source": [
    "## a) Affichage du pourcentage de graisse en fonction des variables explicatives\n",
    "\n",
    "Tracer les nuages de points du pourcentage de graisse en fonction des variables explicatives. \n",
    "\n",
    "- Est-ce qu'une relation linéaire semble appropriée pour chacune de ces trois variables ? \n",
    "- Quelle variable vous semble la meilleure et pour quelle raison ?"
   ]
  },
  {
   "cell_type": "code",
   "execution_count": null,
   "metadata": {},
   "outputs": [],
   "source": []
  },
  {
   "cell_type": "markdown",
   "metadata": {},
   "source": [
    "## b) Estimation des paramètres de la régression linéaire simple avec $x₁$\n"
   ]
  },
  {
   "cell_type": "code",
   "execution_count": null,
   "metadata": {},
   "outputs": [],
   "source": []
  },
  {
   "cell_type": "code",
   "execution_count": null,
   "metadata": {},
   "outputs": [],
   "source": [
    "# Vous devriez obtenir β̂₀ = -1.50 et β̂₁ = 0.857."
   ]
  },
  {
   "cell_type": "markdown",
   "metadata": {},
   "source": [
    "## c) Affichage de la droite de régression obtenue\n",
    "\n",
    "Superposez au nuage de points précédent la droite de régression estimée. Vous pouvez utiliser la géométrie `Geom.abline()` de *Gadfly*. "
   ]
  },
  {
   "cell_type": "code",
   "execution_count": null,
   "metadata": {},
   "outputs": [],
   "source": []
  },
  {
   "cell_type": "markdown",
   "metadata": {},
   "source": [
    "## d) Calcul du coefficient de détermination\n",
    "\n",
    "Calculez le coefficient de détermination de la régression."
   ]
  },
  {
   "cell_type": "code",
   "execution_count": null,
   "metadata": {},
   "outputs": [],
   "source": []
  },
  {
   "cell_type": "code",
   "execution_count": null,
   "metadata": {},
   "outputs": [],
   "source": [
    "# Vous devriez obtenir R² = 0.7110966155559691"
   ]
  },
  {
   "cell_type": "markdown",
   "metadata": {},
   "source": [
    "## e) Interprétation du modèle de régression\n",
    "\n",
    "Donnez une interprétation de \n",
    "- de l'estimation de l'ordonnée à l'origine $β̂₀$ ;\n",
    "- de l'estimation de la pente $β̂₁$ ;\n",
    "- du coefficient de détermination $R²$ ."
   ]
  },
  {
   "cell_type": "code",
   "execution_count": null,
   "metadata": {},
   "outputs": [],
   "source": []
  },
  {
   "cell_type": "markdown",
   "metadata": {},
   "source": [
    "## f)  Identification du meilleur modèle unidimensionnel\n",
    "\n",
    "Identifiez lequel parmi les trois modèles de régression linéaire simple est le meilleur pour prédire le pourcentage de matière grasse d'un patient ? Justifier quantitativement votre réponse. \n",
    "\n",
    "Indice : calculez le coefficient de détermination de chacun des modèles et sélectionnez celui ayant le plus grand."
   ]
  },
  {
   "cell_type": "code",
   "execution_count": null,
   "metadata": {},
   "outputs": [],
   "source": []
  },
  {
   "cell_type": "code",
   "execution_count": null,
   "metadata": {},
   "outputs": [],
   "source": []
  },
  {
   "cell_type": "markdown",
   "metadata": {},
   "source": [
    "# Exercice 2 - Régression linéaire multiple\n",
    "\n",
    "Dans cet exercice, les trois variables explicatives seront utilisées pour prédire le pourcentage de matière grasse d'un patient.\n",
    "\n",
    "## a) Estimation des paramètres de la régression linéaire multiple\n",
    "\n",
    "En utilisant les trois variables explicatives, estimez les paramètres de la régression linéaire multiple avec la méthode des moindres carrés."
   ]
  },
  {
   "cell_type": "code",
   "execution_count": null,
   "metadata": {},
   "outputs": [],
   "source": []
  },
  {
   "cell_type": "code",
   "execution_count": null,
   "metadata": {},
   "outputs": [],
   "source": [
    "# Vous devriez obtenir β̂ = [117.0846947802495, 4.334092008375274, -2.856847936298782, -2.186060251693594]"
   ]
  },
  {
   "cell_type": "markdown",
   "metadata": {},
   "source": [
    "## b) Calcul du coefficient de détermination \n",
    "\n",
    "\n",
    "Calculez le coefficient de détermination et comparez-le à ceux de la question 1 (f). Pouvez-vous conclure que ce modèle est meilleur ?"
   ]
  },
  {
   "cell_type": "code",
   "execution_count": null,
   "metadata": {},
   "outputs": [],
   "source": []
  },
  {
   "cell_type": "code",
   "execution_count": null,
   "metadata": {},
   "outputs": [],
   "source": [
    "# Vous devriez obtenir R² = 0.8013585508623703"
   ]
  },
  {
   "cell_type": "markdown",
   "metadata": {},
   "source": [
    "## c) Calcul d'une prédiction\n",
    "\n",
    "Si une patiente possède les caractérisques suivantes :\n",
    "\n",
    " - $x_1$ = 25.0\n",
    " - $x_2$ = 51.0\n",
    " - $x_3$ = 27.5\n",
    " \n",
    " Quelle est la meilleure prédiction pour son pourcentagede pourcentage de graisse ?"
   ]
  },
  {
   "cell_type": "code",
   "execution_count": null,
   "metadata": {},
   "outputs": [],
   "source": []
  },
  {
   "cell_type": "code",
   "execution_count": null,
   "metadata": {},
   "outputs": [],
   "source": [
    "# Vous devriez obtenir 19.6"
   ]
  },
  {
   "cell_type": "markdown",
   "metadata": {},
   "source": [
    "## d) Calcul des coefficients de régression à l'aide de la décomposition QR\n",
    "\n",
    "Pour rendre les calculs numériques stables et efficaces, les coefficients de régressions sont généralement calculés à l'aide de la décomposition QR de la matrice de structure X, *i.e.*\n",
    "$$ X = QR.$$\n",
    "\n",
    "On peut montrer (Exercice 1 de la fin du chapitre 2 des notes de cours) que \n",
    "\n",
    "$$ β̂ = R^{-1} Q^\\top y.$$\n",
    "\n",
    "L'opération de la décomposition QR et de la résolution du système linéaire s'effectue en une commande à l'aide de l'opérateur `\\`.\n",
    "\n",
    "Estimez les coefficients de régression avec la commande `β̂ = X \\ y`. Obtenez-vous les mêmes résultats ?\n"
   ]
  },
  {
   "cell_type": "code",
   "execution_count": null,
   "metadata": {},
   "outputs": [],
   "source": []
  },
  {
   "cell_type": "markdown",
   "metadata": {},
   "source": [
    "Pour de grands jeux de données, cette solution est beaucoup plus performante et précise. Pour de petits jeux de données tel que celui-ci, ce n'est pas plus rapide de passer par la décomposition QR mais ça demeure plus précis numériquement."
   ]
  }
 ],
 "metadata": {
  "@webio": {
   "lastCommId": null,
   "lastKernelId": null
  },
  "hide_input": false,
  "kernelspec": {
   "display_name": "Julia 1.11.6",
   "language": "julia",
   "name": "julia-1.11"
  },
  "language_info": {
   "file_extension": ".jl",
   "mimetype": "application/julia",
   "name": "julia",
   "version": "1.11.6"
  }
 },
 "nbformat": 4,
 "nbformat_minor": 2
}
