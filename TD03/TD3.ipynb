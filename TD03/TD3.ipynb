{
 "cells": [
  {
   "cell_type": "markdown",
   "metadata": {},
   "source": [
    "# MTH3302 : Méthodes probabilistes et statistiques pour l'I.A.\n",
    "\n",
    "Jonathan Jalbert<br/>\n",
    "Professeur agrégé au Département de mathématiques et de génie industriel<br/>\n",
    "Polytechnique Montréal<br/>\n",
    "\n",
    "\n",
    "# TD3 - Régression linéaire\n",
    "\n",
    "Ce TD concerne la régression linéaire (Chapitre 2 du cours). À la fin de ce TD, vous devriez être avoir été en mesure de :\n",
    "- Tester l'importance de la régression\n",
    "- Calculer les intervalles de confiance des coefficients de régression.\n",
    "- Identifier les variables explicatives les plus importantes.\n",
    "\n",
    "\n",
    "# Contexte : Tension artérielle des patients\n",
    "\n",
    "Le jeu de données étudié dans ce TD concerne la prédiction de la tension artérielle (:BP) d'un patient mesurée en *mm* de mercure en fonction des 6 variables explicatives suivantes :\n",
    "\n",
    "- x₁ : âge en années (:Age);\n",
    "- x₂ : masse en *kg* (:Weight);\n",
    "- x₃ : surface corporelle en *m²* (:BSA) ;\n",
    "- x₄ : durée de l'hypertension en années (:Dur) ;\n",
    "- x₅ : pouls basal en battements par minute (:Pulse) ;\n",
    "- x₆ : niveau de stress de 0 à 100 (:Stress).\n",
    "\n",
    "Le fichier *bloodpressure.csv* contient les tensions artérielles de 20 patients en plus des 6 variables explicatives.\n"
   ]
  },
  {
   "cell_type": "code",
   "execution_count": 1,
   "metadata": {},
   "outputs": [],
   "source": [
    "# Chargement des librairies\n",
    "using CSV, DataFrames, Distributions, Gadfly, Statistics, LinearAlgebra"
   ]
  },
  {
   "cell_type": "code",
   "execution_count": 2,
   "metadata": {},
   "outputs": [
    {
     "data": {
      "text/html": [
       "<div><div style = \"float: left;\"><span>10×8 DataFrame</span></div><div style = \"clear: both;\"></div></div><div class = \"data-frame\" style = \"overflow-x: scroll;\"><table class = \"data-frame\" style = \"margin-bottom: 6px;\"><thead><tr class = \"header\"><th class = \"rowNumber\" style = \"font-weight: bold; text-align: right;\">Row</th><th style = \"text-align: left;\">Pt</th><th style = \"text-align: left;\">BP</th><th style = \"text-align: left;\">Age</th><th style = \"text-align: left;\">Weight</th><th style = \"text-align: left;\">BSA</th><th style = \"text-align: left;\">Dur</th><th style = \"text-align: left;\">Pulse</th><th style = \"text-align: left;\">Stress</th></tr><tr class = \"subheader headerLastRow\"><th class = \"rowNumber\" style = \"font-weight: bold; text-align: right;\"></th><th title = \"Int64\" style = \"text-align: left;\">Int64</th><th title = \"Int64\" style = \"text-align: left;\">Int64</th><th title = \"Int64\" style = \"text-align: left;\">Int64</th><th title = \"Float64\" style = \"text-align: left;\">Float64</th><th title = \"Float64\" style = \"text-align: left;\">Float64</th><th title = \"Float64\" style = \"text-align: left;\">Float64</th><th title = \"Int64\" style = \"text-align: left;\">Int64</th><th title = \"Int64\" style = \"text-align: left;\">Int64</th></tr></thead><tbody><tr><td class = \"rowNumber\" style = \"font-weight: bold; text-align: right;\">1</td><td style = \"text-align: right;\">1</td><td style = \"text-align: right;\">105</td><td style = \"text-align: right;\">47</td><td style = \"text-align: right;\">85.4</td><td style = \"text-align: right;\">1.75</td><td style = \"text-align: right;\">5.1</td><td style = \"text-align: right;\">63</td><td style = \"text-align: right;\">33</td></tr><tr><td class = \"rowNumber\" style = \"font-weight: bold; text-align: right;\">2</td><td style = \"text-align: right;\">2</td><td style = \"text-align: right;\">115</td><td style = \"text-align: right;\">49</td><td style = \"text-align: right;\">94.2</td><td style = \"text-align: right;\">2.1</td><td style = \"text-align: right;\">3.8</td><td style = \"text-align: right;\">70</td><td style = \"text-align: right;\">14</td></tr><tr><td class = \"rowNumber\" style = \"font-weight: bold; text-align: right;\">3</td><td style = \"text-align: right;\">3</td><td style = \"text-align: right;\">116</td><td style = \"text-align: right;\">49</td><td style = \"text-align: right;\">95.3</td><td style = \"text-align: right;\">1.98</td><td style = \"text-align: right;\">8.2</td><td style = \"text-align: right;\">72</td><td style = \"text-align: right;\">10</td></tr><tr><td class = \"rowNumber\" style = \"font-weight: bold; text-align: right;\">4</td><td style = \"text-align: right;\">4</td><td style = \"text-align: right;\">117</td><td style = \"text-align: right;\">50</td><td style = \"text-align: right;\">94.7</td><td style = \"text-align: right;\">2.01</td><td style = \"text-align: right;\">5.8</td><td style = \"text-align: right;\">73</td><td style = \"text-align: right;\">99</td></tr><tr><td class = \"rowNumber\" style = \"font-weight: bold; text-align: right;\">5</td><td style = \"text-align: right;\">5</td><td style = \"text-align: right;\">112</td><td style = \"text-align: right;\">51</td><td style = \"text-align: right;\">89.4</td><td style = \"text-align: right;\">1.89</td><td style = \"text-align: right;\">7.0</td><td style = \"text-align: right;\">72</td><td style = \"text-align: right;\">95</td></tr><tr><td class = \"rowNumber\" style = \"font-weight: bold; text-align: right;\">6</td><td style = \"text-align: right;\">6</td><td style = \"text-align: right;\">121</td><td style = \"text-align: right;\">48</td><td style = \"text-align: right;\">99.5</td><td style = \"text-align: right;\">2.25</td><td style = \"text-align: right;\">9.3</td><td style = \"text-align: right;\">71</td><td style = \"text-align: right;\">10</td></tr><tr><td class = \"rowNumber\" style = \"font-weight: bold; text-align: right;\">7</td><td style = \"text-align: right;\">7</td><td style = \"text-align: right;\">121</td><td style = \"text-align: right;\">49</td><td style = \"text-align: right;\">99.8</td><td style = \"text-align: right;\">2.25</td><td style = \"text-align: right;\">2.5</td><td style = \"text-align: right;\">69</td><td style = \"text-align: right;\">42</td></tr><tr><td class = \"rowNumber\" style = \"font-weight: bold; text-align: right;\">8</td><td style = \"text-align: right;\">8</td><td style = \"text-align: right;\">110</td><td style = \"text-align: right;\">47</td><td style = \"text-align: right;\">90.9</td><td style = \"text-align: right;\">1.9</td><td style = \"text-align: right;\">6.2</td><td style = \"text-align: right;\">66</td><td style = \"text-align: right;\">8</td></tr><tr><td class = \"rowNumber\" style = \"font-weight: bold; text-align: right;\">9</td><td style = \"text-align: right;\">9</td><td style = \"text-align: right;\">110</td><td style = \"text-align: right;\">49</td><td style = \"text-align: right;\">89.2</td><td style = \"text-align: right;\">1.83</td><td style = \"text-align: right;\">7.1</td><td style = \"text-align: right;\">69</td><td style = \"text-align: right;\">62</td></tr><tr><td class = \"rowNumber\" style = \"font-weight: bold; text-align: right;\">10</td><td style = \"text-align: right;\">10</td><td style = \"text-align: right;\">114</td><td style = \"text-align: right;\">48</td><td style = \"text-align: right;\">92.7</td><td style = \"text-align: right;\">2.07</td><td style = \"text-align: right;\">5.6</td><td style = \"text-align: right;\">64</td><td style = \"text-align: right;\">35</td></tr></tbody></table></div>"
      ],
      "text/latex": [
       "\\begin{tabular}{r|cccccccc}\n",
       "\t& Pt & BP & Age & Weight & BSA & Dur & Pulse & Stress\\\\\n",
       "\t\\hline\n",
       "\t& Int64 & Int64 & Int64 & Float64 & Float64 & Float64 & Int64 & Int64\\\\\n",
       "\t\\hline\n",
       "\t1 & 1 & 105 & 47 & 85.4 & 1.75 & 5.1 & 63 & 33 \\\\\n",
       "\t2 & 2 & 115 & 49 & 94.2 & 2.1 & 3.8 & 70 & 14 \\\\\n",
       "\t3 & 3 & 116 & 49 & 95.3 & 1.98 & 8.2 & 72 & 10 \\\\\n",
       "\t4 & 4 & 117 & 50 & 94.7 & 2.01 & 5.8 & 73 & 99 \\\\\n",
       "\t5 & 5 & 112 & 51 & 89.4 & 1.89 & 7.0 & 72 & 95 \\\\\n",
       "\t6 & 6 & 121 & 48 & 99.5 & 2.25 & 9.3 & 71 & 10 \\\\\n",
       "\t7 & 7 & 121 & 49 & 99.8 & 2.25 & 2.5 & 69 & 42 \\\\\n",
       "\t8 & 8 & 110 & 47 & 90.9 & 1.9 & 6.2 & 66 & 8 \\\\\n",
       "\t9 & 9 & 110 & 49 & 89.2 & 1.83 & 7.1 & 69 & 62 \\\\\n",
       "\t10 & 10 & 114 & 48 & 92.7 & 2.07 & 5.6 & 64 & 35 \\\\\n",
       "\\end{tabular}\n"
      ],
      "text/plain": [
       "\u001b[1m10×8 DataFrame\u001b[0m\n",
       "\u001b[1m Row \u001b[0m│\u001b[1m Pt    \u001b[0m\u001b[1m BP    \u001b[0m\u001b[1m Age   \u001b[0m\u001b[1m Weight  \u001b[0m\u001b[1m BSA     \u001b[0m\u001b[1m Dur     \u001b[0m\u001b[1m Pulse \u001b[0m\u001b[1m Stress \u001b[0m\n",
       "     │\u001b[90m Int64 \u001b[0m\u001b[90m Int64 \u001b[0m\u001b[90m Int64 \u001b[0m\u001b[90m Float64 \u001b[0m\u001b[90m Float64 \u001b[0m\u001b[90m Float64 \u001b[0m\u001b[90m Int64 \u001b[0m\u001b[90m Int64  \u001b[0m\n",
       "─────┼───────────────────────────────────────────────────────────────\n",
       "   1 │     1    105     47     85.4     1.75      5.1     63      33\n",
       "   2 │     2    115     49     94.2     2.1       3.8     70      14\n",
       "   3 │     3    116     49     95.3     1.98      8.2     72      10\n",
       "   4 │     4    117     50     94.7     2.01      5.8     73      99\n",
       "   5 │     5    112     51     89.4     1.89      7.0     72      95\n",
       "   6 │     6    121     48     99.5     2.25      9.3     71      10\n",
       "   7 │     7    121     49     99.8     2.25      2.5     69      42\n",
       "   8 │     8    110     47     90.9     1.9       6.2     66       8\n",
       "   9 │     9    110     49     89.2     1.83      7.1     69      62\n",
       "  10 │    10    114     48     92.7     2.07      5.6     64      35"
      ]
     },
     "execution_count": 2,
     "metadata": {},
     "output_type": "execute_result"
    }
   ],
   "source": [
    "data = CSV.read(\"bloodpressure.csv\", DataFrame)\n",
    "first(data,10)"
   ]
  },
  {
   "cell_type": "markdown",
   "metadata": {},
   "source": [
    "# Exercice 1\n",
    "\n",
    "Dans cet exercice, on souhaite tester l'importance de la régression, c'est-à-dire vérifier si au moins une variable explicative possède un pouvoir prédictif significatif de la tension artérielle.\n",
    "\n",
    "\n",
    "Pour répondre à cette question, l'importance de la régression sera testée."
   ]
  },
  {
   "cell_type": "code",
   "execution_count": 3,
   "metadata": {},
   "outputs": [
    {
     "data": {
      "text/plain": [
       "20×7 Matrix{Float64}:\n",
       " 1.0  47.0   85.4  1.75   5.1  63.0  33.0\n",
       " 1.0  49.0   94.2  2.1    3.8  70.0  14.0\n",
       " 1.0  49.0   95.3  1.98   8.2  72.0  10.0\n",
       " 1.0  50.0   94.7  2.01   5.8  73.0  99.0\n",
       " 1.0  51.0   89.4  1.89   7.0  72.0  95.0\n",
       " 1.0  48.0   99.5  2.25   9.3  71.0  10.0\n",
       " 1.0  49.0   99.8  2.25   2.5  69.0  42.0\n",
       " 1.0  47.0   90.9  1.9    6.2  66.0   8.0\n",
       " 1.0  49.0   89.2  1.83   7.1  69.0  62.0\n",
       " 1.0  48.0   92.7  2.07   5.6  64.0  35.0\n",
       " 1.0  47.0   94.4  2.07   5.3  74.0  90.0\n",
       " 1.0  49.0   94.1  1.98   5.6  71.0  21.0\n",
       " 1.0  50.0   91.6  2.05  10.2  68.0  47.0\n",
       " 1.0  45.0   87.1  1.92   5.6  67.0  80.0\n",
       " 1.0  52.0  101.3  2.19  10.0  76.0  98.0\n",
       " 1.0  46.0   94.5  1.98   7.4  69.0  95.0\n",
       " 1.0  46.0   87.0  1.87   3.6  62.0  18.0\n",
       " 1.0  46.0   94.5  1.9    4.3  70.0  12.0\n",
       " 1.0  48.0   90.5  1.88   9.0  71.0  99.0\n",
       " 1.0  56.0   95.7  2.09   7.0  75.0  99.0"
      ]
     },
     "execution_count": 3,
     "metadata": {},
     "output_type": "execute_result"
    }
   ],
   "source": [
    "# Variable d'intérêt\n",
    "y = data.BP\n",
    "\n",
    "# Taille d'échantillon\n",
    "n = length(y)\n",
    "\n",
    "# Matrice de structure\n",
    "X = hcat(ones(n), Matrix(data[:,3:end]))"
   ]
  },
  {
   "cell_type": "markdown",
   "metadata": {},
   "source": [
    "## a) Calculez la variabilité totale SST"
   ]
  },
  {
   "cell_type": "code",
   "execution_count": null,
   "metadata": {},
   "outputs": [],
   "source": []
  },
  {
   "cell_type": "code",
   "execution_count": 4,
   "metadata": {},
   "outputs": [],
   "source": [
    "# Vous devriez obtenir SST = 560"
   ]
  },
  {
   "cell_type": "markdown",
   "metadata": {},
   "source": [
    "## b) Calculez la variabilité expliquée (SSR) et la variabilité résiduelle (SSE)\n",
    "\n",
    "Pour tester l'importance de la régression, on utilise toutes les variables explicatives."
   ]
  },
  {
   "cell_type": "code",
   "execution_count": null,
   "metadata": {},
   "outputs": [],
   "source": []
  },
  {
   "cell_type": "code",
   "execution_count": 5,
   "metadata": {},
   "outputs": [],
   "source": [
    "# Vous devriez obtenir SSR = 557.8 et SSE = 2.16."
   ]
  },
  {
   "cell_type": "markdown",
   "metadata": {},
   "source": [
    "## c) Calculez la statistique observée permettant de tester l'importance de la régression\n",
    "\n",
    "La statistique du test est égale à :\n",
    "\n",
    "$$F = \\frac{(n-p-1)}{p} \\frac{SS_R}{SS_E}.$$"
   ]
  },
  {
   "cell_type": "code",
   "execution_count": null,
   "metadata": {},
   "outputs": [],
   "source": []
  },
  {
   "cell_type": "code",
   "execution_count": 6,
   "metadata": {},
   "outputs": [],
   "source": [
    "# Vous devriez obtenir Fₒ = 560.6."
   ]
  },
  {
   "cell_type": "markdown",
   "metadata": {},
   "source": [
    "## d) Illustrez la distribution de la statistique de test lorsque l'hypothèse nulle est vraie.\n",
    "\n",
    "Lorsque l'hypothèse nulle est vraie, on a que \n",
    "\n",
    "$$F \\sim \\mathcal{F}isher(p, n-p-1).$$\n",
    "\n",
    "**Suggestion :** Utilisez l'objet *FDist* de la librairie *Distributions.jl* pour appliquer la méthode `pdf()` donnant la densité. "
   ]
  },
  {
   "cell_type": "code",
   "execution_count": null,
   "metadata": {},
   "outputs": [],
   "source": []
  },
  {
   "cell_type": "markdown",
   "metadata": {},
   "source": [
    "## e) Calculez la région critique pour le rejet de l'hypothèse nulle\n",
    "\n",
    "Utilisez le risque α = 5%\n",
    "\n",
    "**Suggestion :** Utilisez la méthode `quantile()` pour identifier le point de la région critique. "
   ]
  },
  {
   "cell_type": "code",
   "execution_count": null,
   "metadata": {},
   "outputs": [],
   "source": []
  },
  {
   "cell_type": "code",
   "execution_count": 7,
   "metadata": {},
   "outputs": [],
   "source": [
    "# Vous devriez obtenir seuil = 2.915"
   ]
  },
  {
   "cell_type": "markdown",
   "metadata": {},
   "source": [
    "## f) Quelle est la décision du test\n",
    "\n",
    "Décidez si vous rejetez ou non l'hypothèse nulle."
   ]
  },
  {
   "cell_type": "code",
   "execution_count": null,
   "metadata": {},
   "outputs": [],
   "source": []
  },
  {
   "cell_type": "code",
   "execution_count": 8,
   "metadata": {},
   "outputs": [],
   "source": [
    "# Vous devriez rejeter l'hypothèse nulle."
   ]
  },
  {
   "cell_type": "markdown",
   "metadata": {},
   "source": [
    "## g) Calculez le seuil observé du test (la valeur-p)\n",
    "\n",
    "La valeur-p est la probabilité d'observer une statistique plus extrême que celle obtenue.\n",
    "\n",
    "**Suggestion :** Utilisez la méthode `cdf()`. "
   ]
  },
  {
   "cell_type": "code",
   "execution_count": null,
   "metadata": {},
   "outputs": [],
   "source": []
  },
  {
   "cell_type": "code",
   "execution_count": 9,
   "metadata": {},
   "outputs": [],
   "source": [
    "# Vous devriez obtenir valeurp = 6.44e-15"
   ]
  },
  {
   "cell_type": "markdown",
   "metadata": {},
   "source": [
    "# Exercice 2\n",
    "\n",
    "## a) Estimez la variance de l'erreur.\n",
    "\n",
    "En utilisant toutes les variables explicatives."
   ]
  },
  {
   "cell_type": "code",
   "execution_count": null,
   "metadata": {},
   "outputs": [],
   "source": []
  },
  {
   "cell_type": "code",
   "execution_count": 10,
   "metadata": {},
   "outputs": [],
   "source": [
    "# Vous devriez obtenir σ̂² = 0.1658"
   ]
  },
  {
   "cell_type": "markdown",
   "metadata": {},
   "source": [
    "## b) Calculez les intervalles de confiance à 95 % pour β"
   ]
  },
  {
   "cell_type": "code",
   "execution_count": null,
   "metadata": {},
   "outputs": [],
   "source": []
  },
  {
   "cell_type": "code",
   "execution_count": 11,
   "metadata": {},
   "outputs": [],
   "source": [
    "# Vous devriez obtenir β₁ ∈ [0.596 , 0.81], etc."
   ]
  },
  {
   "cell_type": "markdown",
   "metadata": {},
   "source": [
    "## c) Quelles variables semblent non significatives ?"
   ]
  },
  {
   "cell_type": "code",
   "execution_count": null,
   "metadata": {},
   "outputs": [],
   "source": []
  },
  {
   "cell_type": "markdown",
   "metadata": {},
   "source": [
    "# Exercice 3\n",
    "\n",
    "Pour identifier la variable explicative la plus importante, on peut estimer tous les modèles de régression linéaire simple et comparer les coefficients de détermination. Le modèle ayant le coefficient de détermination le plus élevé correspond à la variable explicative la plus importante.\n",
    "\n",
    "Une autre façon de faire pour ordonner l'importance des variables explicatives consiste à comparer le ratio signal sur bruit des coefficients de régression. Le score-Z permet de calculer ce ratio :\n",
    "\n",
    "$$ \\operatorname{Z-score}_j  = \\frac{β̂ⱼ}{\\sqrt{σ̂² \\times v_{j+1}}}.$$\n",
    "\n",
    "La variable la plus importante est celle qui possède le plus grand score-*Z* en valeur absolue.\n",
    "\n",
    "Calculez les score-Z de chacune des variables explicatives pour déterminer celle qui explique le mieux la tension artérielle."
   ]
  },
  {
   "cell_type": "code",
   "execution_count": null,
   "metadata": {},
   "outputs": [],
   "source": []
  },
  {
   "cell_type": "code",
   "execution_count": 12,
   "metadata": {},
   "outputs": [],
   "source": [
    "# Vous devriez obtenir que le poids est la variable la plus importante avec un score-Z de 15.4."
   ]
  },
  {
   "cell_type": "markdown",
   "metadata": {},
   "source": [
    "# Exercice 4"
   ]
  },
  {
   "cell_type": "markdown",
   "metadata": {},
   "source": [
    "Encore une autre façon pour ordonner l'importance des variables explicatives consiste à comparer les estimations des coefficients de régression lorsque les variables explicatives et la variable d'intérêt sont d'abord standardisées.\n",
    "\n",
    "Lorsque toutes les variables explicatives sont standardisées, elles sont donc sur la même échelle et les coefficients de régression peuvent être directement comparés. En l'occurrence, un coefficient plus grand implique un effet plus grand.\n",
    "\n",
    "**Remarque :** Lorsque toutes les variables sont standardisées, l'ordonnée à l'origine n'est plus nécessaire. Pour le comprendre, regarder l'expression de β̂₀ dans la régression linéaire simple.\n",
    "\n",
    "Calculez les coefficients de régression en utilisant les variables standardisées. Identifiez la variable explicative la plus importante."
   ]
  },
  {
   "cell_type": "code",
   "execution_count": null,
   "metadata": {},
   "outputs": [],
   "source": []
  },
  {
   "cell_type": "code",
   "execution_count": 13,
   "metadata": {},
   "outputs": [],
   "source": [
    "# Vous devriez obtenir que le poids est la variable la plus importante avec β̂₂ = 0.767."
   ]
  }
 ],
 "metadata": {
  "@webio": {
   "lastCommId": null,
   "lastKernelId": null
  },
  "hide_input": false,
  "kernelspec": {
   "display_name": "Julia 1.11.6",
   "language": "julia",
   "name": "julia-1.11"
  },
  "language_info": {
   "file_extension": ".jl",
   "mimetype": "application/julia",
   "name": "julia",
   "version": "1.11.6"
  }
 },
 "nbformat": 4,
 "nbformat_minor": 4
}
