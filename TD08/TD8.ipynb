{
 "cells": [
  {
   "cell_type": "markdown",
   "metadata": {},
   "source": [
    "# MTH3302 : Méthodes probabilistes et statistiques pour l'I.A.\n",
    "\n",
    "Jonathan Jalbert<br/>\n",
    "Professeur agrégé au Département de mathématiques et de génie industriel<br/>\n",
    "Polytechnique Montréal<br/>\n",
    "\n",
    "\n",
    "## TD8 : Modèles bayésiens pour la loi normale\n",
    "\n",
    "Dans ce TD, nous implémenterons l'échantillonnage de Gibbs permettant d'otenir un échantillon aléatoire à partir de la forme fonctionnelle d'une loi de probabilité multidimensionnelle. Nous effectuerons également la sélection de modèle bayésienne de modèle statistique. La lecture du chapitre 6 des notes de cours vous sera très utile.\n",
    "\n",
    "Nous reprenons les observations de l'expérience de Michelson-Morley prises par Illingworth en 1927."
   ]
  },
  {
   "cell_type": "code",
   "execution_count": null,
   "metadata": {},
   "outputs": [],
   "source": [
    "# Chargement des librairies nécessaires\n",
    "using CSV, DataFrames, Gadfly, Statistics, Distributions"
   ]
  },
  {
   "cell_type": "markdown",
   "metadata": {},
   "source": [
    "## Exercice 1 : Expérience de Michelson-Morley (avec variance inconnue)\n",
    "\n",
    "On a que\n",
    "\n",
    "$$ Y_i \\sim \\mathcal{N} \\left( \\mu, \\sigma^2 \\right) ; $$\n",
    "\n",
    "avec la variance inconnue. On utilise la loi *a priori* impropre suivante pour les paramètres $\\mu$ et $\\sigma^2$ :\n",
    "\n",
    "$$f_{(\\mu,\\sigma^2)}(\\mu,\\sigma^2) \\propto \\frac{1}{\\sigma^2} \\mbox{ pour }\\sigma^2 >0. $$\n",
    "\n",
    "Nous utiliserons l'échantillonnage de Gibbs pour obtenir un échantillon de la loi *a posteriori*."
   ]
  },
  {
   "cell_type": "code",
   "execution_count": null,
   "metadata": {},
   "outputs": [],
   "source": [
    "# Chargement des données\n",
    "data = CSV.read(\"illingworth1927.csv\", DataFrame)\n",
    "\n",
    "df = filter(row -> (row.Time == \"5 a.m.\") & (row.Direction ==\"N\"), data )\n",
    "y = df[:,:FringeDispl]\n",
    "\n",
    "ȳ = mean(y)\n",
    "s = std(y)\n",
    "n = length(y);"
   ]
  },
  {
   "cell_type": "markdown",
   "metadata": {},
   "source": [
    "### (a) Écrivez la loi conditionnelle complète de $\\mu$.\n",
    "\n",
    "On veut une fonction qui retourne la loi conditionnelle complète de μ pour une valeur de σ² donnée. La fonction doit retourner un objet de type *Distribution*. "
   ]
  },
  {
   "cell_type": "code",
   "execution_count": null,
   "metadata": {},
   "outputs": [],
   "source": [
    "f₁(σ²::Real) = #TODO"
   ]
  },
  {
   "cell_type": "markdown",
   "metadata": {},
   "source": [
    "### (b) Écrivez la loi conditionnelle complète de $\\sigma^2$.\n",
    "\n",
    "On veut une fonction qui retourne la loi conditionnelle complète de σ² pour une valeur de μ donnée. La fonction doit retourner un objet de type *Distribution*. "
   ]
  },
  {
   "cell_type": "code",
   "execution_count": null,
   "metadata": {},
   "outputs": [],
   "source": [
    "f₂(μ::Real) = #TODO"
   ]
  },
  {
   "cell_type": "markdown",
   "metadata": {},
   "source": [
    "### (c) Générez un échantillon aléatoire de la loi *a posteriori*.\n",
    "\n",
    "À l'aide des lois conditionnelles complètes, faites 1000 itérations de l'échantillonnage de Gibbs pour générer un échantillon de la loi *a posteriori*. Vous pouvez initialiser μ et σ² à des valeurs quelconques. "
   ]
  },
  {
   "cell_type": "code",
   "execution_count": null,
   "metadata": {},
   "outputs": [],
   "source": []
  },
  {
   "cell_type": "markdown",
   "metadata": {},
   "source": [
    "### (d) Tracez la chaîne obtenue pour $\\mu$."
   ]
  },
  {
   "cell_type": "code",
   "execution_count": null,
   "metadata": {},
   "outputs": [],
   "source": []
  },
  {
   "cell_type": "markdown",
   "metadata": {},
   "source": [
    "### (e) Tracez la chaîne obtenue pour $\\sigma^2$."
   ]
  },
  {
   "cell_type": "code",
   "execution_count": null,
   "metadata": {},
   "outputs": [],
   "source": []
  },
  {
   "cell_type": "markdown",
   "metadata": {},
   "source": [
    "### (f) Rejetez les itérations de la phase de chauffe"
   ]
  },
  {
   "cell_type": "code",
   "execution_count": null,
   "metadata": {},
   "outputs": [],
   "source": []
  },
  {
   "cell_type": "markdown",
   "metadata": {},
   "source": [
    "### (f) Calculez la loi *a posteriori* marginale de μ\n",
    "\n",
    "Cette loi est donnée dans l'exemple 2 des notes de cours. Calculez ses paramètres et construisez l'objet de type *UnivariateDistribution* en utiisant la fonction `LocationScale()`."
   ]
  },
  {
   "cell_type": "code",
   "execution_count": null,
   "metadata": {},
   "outputs": [],
   "source": []
  },
  {
   "cell_type": "markdown",
   "metadata": {},
   "source": [
    "### (g) Vérifiez que la chaine générée pour μ correspond à la loi marginale\n",
    "\n",
    "Pour vérifier que votre chaîne μ générée correspond à la loi *a posteriori* marginale de μ, comparez la densité de la loi que vous avez obtenue à la question précédente à l'histogramme de la chaine des μ. Vous pouvez même superposer la densité à l'histogramme sur le même graphique en utilisant la fonction `layer()` de Gadfly et l'option `density=true` de la géométrie `Geom.histrogram()`."
   ]
  },
  {
   "cell_type": "code",
   "execution_count": null,
   "metadata": {},
   "outputs": [],
   "source": []
  },
  {
   "cell_type": "markdown",
   "metadata": {},
   "source": [
    "## Exercice 2 : Détermination de la variance de l'erreur du montage d'Illingworth\n",
    "\n",
    "On sait aujourd'hui que le vrai déplacement des franges d'interférence est égal à 0, peu importe les conditions d'observation. On peut alors supposer le modèle suivant pour estimer la variance de l'erreur expérimentale du montage\n",
    "\n",
    "$$ Y_i \\sim \\mathcal{N} \\left( 0, \\sigma^2 \\right) ; $$\n",
    "\n",
    "pour les 64 observations effectuées.\n",
    "\n",
    "Nous allons d'abord vérifier si Illingworth a bien estimé l'erreur de son montage en comparant les modèles satistiques suivants :\n",
    "\n",
    "$$ \\mathcal{M}_1 : Y_i \\sim \\mathcal{N} \\left( 0, (3/2)^2 \\right) , $$\n",
    "$$ \\mathcal{M}_2 : Y_i \\sim \\mathcal{N} \\left( 0, \\sigma^2 \\right) ; $$\n",
    "\n",
    "le modèle $\\mathcal{M}_1$ correspond à l'hypothèse d'Illingworth et le modèle $\\mathcal{M}_2$ suppose une variance d'erreur différente. Si le modèle $\\mathcal{M}_2$ est plus vraisemblable, alors nous estimerons la variance expérimentale du montage."
   ]
  },
  {
   "cell_type": "code",
   "execution_count": null,
   "metadata": {},
   "outputs": [],
   "source": [
    "y = data[:,:FringeDispl]\n",
    "\n",
    "ȳ = mean(y)\n",
    "s = std(y)\n",
    "n = length(y)"
   ]
  },
  {
   "cell_type": "markdown",
   "metadata": {},
   "source": [
    "### (a) Calculez la log vraisemblance du modèle $\\mathcal{M}_1$"
   ]
  },
  {
   "cell_type": "code",
   "execution_count": null,
   "metadata": {},
   "outputs": [],
   "source": []
  },
  {
   "cell_type": "markdown",
   "metadata": {},
   "source": [
    "### (b) Calculez le bic du modèle $\\mathcal{M}_1$"
   ]
  },
  {
   "cell_type": "code",
   "execution_count": null,
   "metadata": {},
   "outputs": [],
   "source": []
  },
  {
   "cell_type": "markdown",
   "metadata": {},
   "source": [
    "### (c) Calculez l'estimation du maximum de la vraisemblance de σ²\n",
    "\n",
    "Vous devez calculez à main la formule de l'estimateur en dérivant la vraisemblance puis calculez l'estimation avec les données."
   ]
  },
  {
   "cell_type": "code",
   "execution_count": null,
   "metadata": {},
   "outputs": [],
   "source": []
  },
  {
   "cell_type": "markdown",
   "metadata": {},
   "source": [
    "### (d) Calculez la log-vraisemblance du modèle $\\mathcal{M}_2$ évaluée à σ̂²"
   ]
  },
  {
   "cell_type": "code",
   "execution_count": null,
   "metadata": {},
   "outputs": [],
   "source": []
  },
  {
   "cell_type": "markdown",
   "metadata": {},
   "source": [
    "### (e) Calculez le BIC du modèle $\\mathcal{M}_2$"
   ]
  },
  {
   "cell_type": "code",
   "execution_count": null,
   "metadata": {},
   "outputs": [],
   "source": []
  },
  {
   "cell_type": "markdown",
   "metadata": {},
   "source": [
    "### (f) Quel est le meilleur modèle ?\n",
    "\n",
    "Selon les BIC calculés, quel est le meilleur modèle ?"
   ]
  },
  {
   "cell_type": "code",
   "execution_count": null,
   "metadata": {},
   "outputs": [],
   "source": []
  },
  {
   "cell_type": "markdown",
   "metadata": {},
   "source": [
    "### (g) Estimez l'écart-type expériemental σ du montage d'Illingworth"
   ]
  },
  {
   "cell_type": "code",
   "execution_count": null,
   "metadata": {},
   "outputs": [],
   "source": []
  }
 ],
 "metadata": {
  "@webio": {
   "lastCommId": null,
   "lastKernelId": null
  },
  "hide_input": false,
  "kernelspec": {
   "display_name": "Julia 1.10.0",
   "language": "julia",
   "name": "julia-1.10"
  },
  "language_info": {
   "file_extension": ".jl",
   "mimetype": "application/julia",
   "name": "julia",
   "version": "1.10.1"
  }
 },
 "nbformat": 4,
 "nbformat_minor": 4
}
