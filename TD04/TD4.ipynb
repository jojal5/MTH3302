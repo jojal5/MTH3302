{
 "cells": [
  {
   "cell_type": "markdown",
   "metadata": {},
   "source": [
    "# MTH3302 : Méthodes probabilistes et statistiques pour l'I.A.\n",
    "\n",
    "Jonathan Jalbert<br/>\n",
    "Professeur agrégé au Département de mathématiques et de génie industriel<br/>\n",
    "Polytechnique Montréal<br/>\n",
    "\n",
    "\n",
    "# TD4 - Régression linéaire\n",
    "\n",
    "Ce TD concerne la régression linéaire (Chapitre 2 du cours). À la fin de ce TD, vous devriez être avoir été en mesure de :\n",
    "- Choisir un modèle sur la base de l'estimation ou de la prédiction.\n",
    "- Vérifier pour la présence de multicolinéarité.\n",
    "- Transformer les variables pour modéliser des relations non-linéaires.\n",
    "\n",
    "\n",
    "## Contexte : Poids des poissons\n",
    "\n",
    "Le fichier *fishweights.csv* contient les caractéristiques de 158 poissons péchés dans le lac Laengelmavesi en Finlande. Nous étudierons le poids (Weight en grammes) des poissons en fonction de variables explicatives suivantes :\n",
    "- l'espèce de poisson (species) ;\n",
    "- la longueur standard (StandardLength) ;\n",
    "- la longeur non standard  (NonStandardLength) ;\n",
    "- la longueur totale (TotalLength) ;\n",
    "- la hauteur (Height) ;\n",
    "- la largeur (Width)."
   ]
  },
  {
   "cell_type": "markdown",
   "metadata": {},
   "source": [
    "          ___/////___                  _\n",
    "         /           \\    ___          |\n",
    "       /\\             \\_ /  /          H\n",
    "     <   )            __)  \\           |\n",
    "       \\/_\\\\_________/   \\__\\          _\n",
    "\n",
    "     |------- SL -------|\n",
    "     |------- NSL ---------|\n",
    "     |------- TL ------------|"
   ]
  },
  {
   "cell_type": "code",
   "execution_count": null,
   "metadata": {},
   "outputs": [],
   "source": [
    "using CSV \n",
    "using DataFrames\n",
    "using Distributions\n",
    "using Gadfly\n",
    "using LinearAlgebra\n",
    "using Statistics"
   ]
  },
  {
   "cell_type": "markdown",
   "metadata": {},
   "source": [
    "## Chargement des données"
   ]
  },
  {
   "cell_type": "code",
   "execution_count": null,
   "metadata": {},
   "outputs": [],
   "source": [
    "data = CSV.read(\"fishweights.csv\", DataFrame)\n",
    "first(data,10)"
   ]
  },
  {
   "cell_type": "markdown",
   "metadata": {},
   "source": [
    "# Exercice 1 - Analyse exploratoire\n",
    "\n",
    "## a) Illustrez les poids en fonction des espèces de poisson\n",
    "\n",
    "**Note :** Avec Gadfly, la variable *x* peut être une variable catégorielle."
   ]
  },
  {
   "cell_type": "code",
   "execution_count": null,
   "metadata": {},
   "outputs": [],
   "source": []
  },
  {
   "cell_type": "markdown",
   "metadata": {},
   "source": [
    "## b) Illustrez les poids en fonction de la longeur standard et des espèces.\n",
    "\n",
    "**Suggestion :** Utilisez l'option *color* de Gadfly pour distinguer les différentes espèces."
   ]
  },
  {
   "cell_type": "code",
   "execution_count": null,
   "metadata": {},
   "outputs": [],
   "source": []
  },
  {
   "cell_type": "markdown",
   "metadata": {},
   "source": [
    "## c) Calculez le poids moyen pour chaque espèce ainsi que le nombre d'observations pour chaque espèce.\n",
    "\n",
    "Les fonctions `combine()` et `groupby()` permettent d'effectuer rapidement ces tâches. Puisqu'elles ne sont pas intuitives, je vous donne d'emblée la réponse. C'est une combinaison de commandes qui pourra vous être utile dans tout le cours."
   ]
  },
  {
   "cell_type": "code",
   "execution_count": null,
   "metadata": {},
   "outputs": [],
   "source": [
    "df = combine(groupby(data, :Species), :Weight => mean => :Weight, :Weight => length => :n)"
   ]
  },
  {
   "cell_type": "markdown",
   "metadata": {},
   "source": [
    "# Exercice 2 - Ajustement *vs* prédiction\n",
    "\n",
    "Dans cet excercice, on considère le **poids** des éperlans en fonction de la **longueur standard**. On utilisera un ensemble d'entraînement ainsi qu'un ensemble de validation pour évaluer l'erreur de prédiction sur des données non utilisées pour l'estimation des paramètres."
   ]
  },
  {
   "cell_type": "code",
   "execution_count": null,
   "metadata": {},
   "outputs": [],
   "source": [
    "\"\"\"\n",
    "    construct_structure(x::Vector{<:Real}, order::Int)\n",
    "\n",
    "Construction de la matrice de structure du modèle polynomial d'ordre `order` à partir du vecteur `x`.\n",
    "\"\"\"\n",
    "function construct_structure(x::Vector{<:Real}, order::Int)\n",
    "    \n",
    "    X = Array{Float64}(undef, length(x), order+1)\n",
    "    \n",
    "    for p in 0:order\n",
    "       X[:,p+1] = x.^p \n",
    "    end\n",
    "    \n",
    "    return X\n",
    "    \n",
    "end"
   ]
  },
  {
   "cell_type": "markdown",
   "metadata": {},
   "source": [
    "## a) Construction de l'ensemble d'entraînement et de validation pour les éperlans"
   ]
  },
  {
   "cell_type": "code",
   "execution_count": null,
   "metadata": {},
   "outputs": [],
   "source": []
  },
  {
   "cell_type": "markdown",
   "metadata": {},
   "source": [
    "## b) Modèle linéaire\n",
    "\n",
    "1. Estimez la droite de régression avec les données de l'ensemble d'entraînement.\n",
    "2. Tracez la droite de régression ainsi que les points de l'ensemble d'entraînement.\n",
    "3. Ajoutez les points de validation sur le graphique avec une autre couleur.\n",
    "\n",
    "**Suggestion :** Utilisez la fonction `layer()` de Gadfly pour ajouter plusieurs couches à un graphique."
   ]
  },
  {
   "cell_type": "code",
   "execution_count": null,
   "metadata": {},
   "outputs": [],
   "source": []
  },
  {
   "cell_type": "code",
   "execution_count": null,
   "metadata": {},
   "outputs": [],
   "source": []
  },
  {
   "cell_type": "markdown",
   "metadata": {},
   "source": [
    "## c) Modèle cubique\n",
    "\n",
    "1. Estimez les paramètres du modèle cubique en utilisant les données de l'ensemble d'entraînement.\n",
    "2. Tracez la courbe donnée par le modèle ainsi que les points de l'ensemble d'entraînement.\n",
    "3. Ajoutez les points de validation sur le graphique avec une autre couleur.\n",
    "\n",
    "**Suggestion :** Utilisez la fonction `construct_structure()` fournie pour construire la matrice de structure pour le modèle cubique avec `order=3`."
   ]
  },
  {
   "cell_type": "code",
   "execution_count": null,
   "metadata": {},
   "outputs": [],
   "source": []
  },
  {
   "cell_type": "code",
   "execution_count": null,
   "metadata": {},
   "outputs": [],
   "source": []
  },
  {
   "cell_type": "code",
   "execution_count": null,
   "metadata": {},
   "outputs": [],
   "source": []
  },
  {
   "cell_type": "markdown",
   "metadata": {},
   "source": [
    "## d) Modèle d'ordre 6\n",
    "\n",
    "1. Estimez les paramètres du modèle d'ordre 6 en utilisant les données de l'ensemble d'entraînement.\n",
    "2. Tracez la courbe donnée par le modèle ainsi que les points de l'ensemble d'entraînement.\n",
    "3. Ajoutez les points de validation sur le graphique avec une autre couleur.\n",
    "\n",
    "**Suggestion :** Utilisez la fonction `construct_structure()` fournie pour construire la matrice de structure pour le modèle cubique avec `order=6`."
   ]
  },
  {
   "cell_type": "code",
   "execution_count": null,
   "metadata": {},
   "outputs": [],
   "source": []
  },
  {
   "cell_type": "code",
   "execution_count": null,
   "metadata": {},
   "outputs": [],
   "source": []
  },
  {
   "cell_type": "code",
   "execution_count": null,
   "metadata": {},
   "outputs": [],
   "source": []
  },
  {
   "cell_type": "markdown",
   "metadata": {},
   "source": [
    "## e) Calcul de la qualité d'ajustement et de l'erreur de prédiction\n",
    "\n",
    "Pour les modèles d'ordre 0 à 6, calculez \n",
    "- le coefficient de détermination\n",
    "- le coefficient de détermination ajusté\n",
    "- l'erreur quadratique moyenne (MSE) sur l'échantillon de validation.\n",
    "\n",
    "**Suggestion :** Ajoutez une ligne au tableau `df` proposé pour chacun des ordre de modèle avec la fonction `push!()`.\n"
   ]
  },
  {
   "cell_type": "code",
   "execution_count": null,
   "metadata": {},
   "outputs": [],
   "source": []
  },
  {
   "cell_type": "code",
   "execution_count": null,
   "metadata": {},
   "outputs": [],
   "source": []
  },
  {
   "cell_type": "code",
   "execution_count": null,
   "metadata": {},
   "outputs": [],
   "source": []
  },
  {
   "cell_type": "markdown",
   "metadata": {},
   "source": [
    "## f) Sélection du meilleur modèle\n",
    "\n",
    "Selon vous, quel est le meilleur modèle ?"
   ]
  },
  {
   "cell_type": "code",
   "execution_count": null,
   "metadata": {},
   "outputs": [],
   "source": []
  },
  {
   "cell_type": "markdown",
   "metadata": {},
   "source": [
    "# Exercice 3 - Poids des perches\n",
    "\n",
    "Dans cet exercice, on étudie la présence de multicolinéarité dans les variables explicatives pour les perches."
   ]
  },
  {
   "cell_type": "code",
   "execution_count": null,
   "metadata": {},
   "outputs": [],
   "source": [
    "perche = filter(row -> row.Species == \"Perche\", data)\n",
    "n = size(perche,1)\n",
    "first(perche, 10)"
   ]
  },
  {
   "cell_type": "markdown",
   "metadata": {},
   "source": [
    "## a) Détection de la multicolinéarité.\n",
    "\n",
    "Calculez le facteur d'inflation de la variance VIF pour les variables explicatives de la perche. Déterminez s'il y a multicolinéarité."
   ]
  },
  {
   "cell_type": "code",
   "execution_count": null,
   "metadata": {},
   "outputs": [],
   "source": []
  },
  {
   "cell_type": "code",
   "execution_count": null,
   "metadata": {},
   "outputs": [],
   "source": []
  },
  {
   "cell_type": "code",
   "execution_count": null,
   "metadata": {},
   "outputs": [],
   "source": []
  },
  {
   "cell_type": "markdown",
   "metadata": {},
   "source": [
    "## b) Vérification visuelle de la multicolinéarité\n",
    "\n",
    "Illustrez la :NonStandardLength en fonction de la :StandardLength. Est-ce que ça corrobore le fait que la multicolinéarité ait été détectée à la question précédente ?"
   ]
  },
  {
   "cell_type": "code",
   "execution_count": null,
   "metadata": {},
   "outputs": [],
   "source": []
  },
  {
   "cell_type": "markdown",
   "metadata": {},
   "source": [
    "## c) Sélection d'un sous-ensemble des variables explicatives \n",
    "\n",
    "Sélectionnez un sous-ensemble des variables explicatives pour lequel il n'y a pas de multicolinéarité."
   ]
  },
  {
   "cell_type": "markdown",
   "metadata": {},
   "source": [
    "Toutes les variables explicatives sont toutes liées linéairement entre elles. Pour éviter la multicolinéarité, il faut choisir une seule variable."
   ]
  },
  {
   "cell_type": "code",
   "execution_count": null,
   "metadata": {},
   "outputs": [],
   "source": []
  },
  {
   "cell_type": "markdown",
   "metadata": {},
   "source": [
    "## c)  Identification du meilleur modèle de régression linéaire simple\n",
    "\n",
    "Puisqu'il y a présence de multicolinéarité entre toutes les variables, on cherche le meilleur modèle unidimensionnel. Utilisez le critère de votre choix pour l'identifier.\n",
    "\n",
    "**Suggestion :** Vous pouvez transformer la variable d'intérêt pour trouver le meilleur modèle linéaire unidimensionnel."
   ]
  },
  {
   "cell_type": "code",
   "execution_count": null,
   "metadata": {},
   "outputs": [],
   "source": []
  },
  {
   "cell_type": "markdown",
   "metadata": {},
   "source": [
    "## d) Vérification des hypothèses de la régression\n",
    "\n",
    "Vérifiez si les hypothèses 1 à 4 de la régression sont satisfaites. Pour ce faire, tracer les graphiques suivants :\n",
    "- le nuage des points {(ŷᵢ, eᵢ) : 1 ≤ i ≤ n} pour vérifier les hypothèses 1 et 2\n",
    "- la droite de Henry pour vérifier l'hypothèse 4.\n",
    "\n",
    "**Suggestion :** Vous pouvez utiliser la fonction `henryplot()` fournie pour tracer le diagramme quantile-quantile entre la loi normale et les résidus.\n"
   ]
  },
  {
   "cell_type": "code",
   "execution_count": null,
   "metadata": {},
   "outputs": [],
   "source": [
    "function henryplot(y::Vector{<:Real})\n",
    "\n",
    "    n = length(y)\n",
    "    ysorted = sort(y)\n",
    "\n",
    "    p = ( collect(1:n) .- .5 ) /n\n",
    "\n",
    "    fd = fit(Normal,y)\n",
    "\n",
    "    q = quantile.(fd,p)\n",
    "\n",
    "    plot(x=ysorted, y=q, Geom.point,\n",
    "    Guide.xlabel(\"Empirical quantiles\"), Guide.ylabel(\"Estimated quantiles\"),\n",
    "    Theme(discrete_highlight_color=c->nothing),\n",
    "    Geom.abline(color=\"red\"))\n",
    "\n",
    "end"
   ]
  },
  {
   "cell_type": "code",
   "execution_count": null,
   "metadata": {},
   "outputs": [],
   "source": []
  },
  {
   "cell_type": "markdown",
   "metadata": {},
   "source": [
    "## e) Relation pour les poids originaux\n",
    "\n",
    "Tracez le nuage de points illustrant les poids originaux des perches (dans le cas où vous auriez fait une transformation) en fonction votre variable explicative ainsi que la relation obtenue.\n",
    "\n",
    "**Suggestion :** Utilisez la fonction `layer()` pour superposer plusieurs couches sur un graphique."
   ]
  },
  {
   "cell_type": "code",
   "execution_count": null,
   "metadata": {},
   "outputs": [],
   "source": []
  },
  {
   "cell_type": "markdown",
   "metadata": {},
   "source": [
    "# Exercice 4 : Recherche du meilleur modèle possible\n",
    "\n",
    "Dans cet exercice, on cherche le meilleur modèle pour prédire le poids de perches. J'ai l'impression que les modèles suivants pourraient être pertinents :\n",
    "- X = StandardLength * Width * Height (on suppose que le poisson est de la forme d'un prisme rectangulaire)\n",
    "- X = StandardLength * Width^2 (on suppose que le poisson est un cylindre)\n",
    "- etc.\n",
    "\n",
    "C'est votre travail de créer de nouvelles variables explicatives à partir de celle que vous avez pour rechercher le meilleur modèle possible."
   ]
  },
  {
   "cell_type": "code",
   "execution_count": null,
   "metadata": {},
   "outputs": [],
   "source": []
  },
  {
   "cell_type": "code",
   "execution_count": null,
   "metadata": {},
   "outputs": [],
   "source": []
  },
  {
   "cell_type": "code",
   "execution_count": null,
   "metadata": {},
   "outputs": [],
   "source": []
  }
 ],
 "metadata": {
  "@webio": {
   "lastCommId": null,
   "lastKernelId": null
  },
  "hide_input": false,
  "kernelspec": {
   "display_name": "Julia 1.10.0",
   "language": "julia",
   "name": "julia-1.10"
  },
  "language_info": {
   "file_extension": ".jl",
   "mimetype": "application/julia",
   "name": "julia",
   "version": "1.10.1"
  }
 },
 "nbformat": 4,
 "nbformat_minor": 4
}
